{
  "cells": [
    {
      "cell_type": "markdown",
      "metadata": {
        "id": "view-in-github",
        "colab_type": "text"
      },
      "source": [
        "<a href=\"https://colab.research.google.com/github/VictorFrancheto/Complex_Network/blob/main/lista_1.ipynb\" target=\"_parent\"><img src=\"https://colab.research.google.com/assets/colab-badge.svg\" alt=\"Open In Colab\"/></a>"
      ]
    },
    {
      "cell_type": "markdown",
      "metadata": {
        "id": "5jfCRxjxeGhk"
      },
      "source": [
        "# Instalando a biblioteca `graph-tool`(https://graph-tool.skewed.de)\n",
        "\n",
        "---"
      ]
    },
    {
      "cell_type": "code",
      "execution_count": 1,
      "metadata": {
        "colab": {
          "base_uri": "https://localhost:8080/"
        },
        "id": "EDFi56pGeERm",
        "outputId": "cdd235fd-575b-4f63-a60c-84d63cdfedd4"
      },
      "outputs": [
        {
          "output_type": "stream",
          "name": "stdout",
          "text": [
            "gpg: key 612DEFB798507F25: \"Tiago de Paula Peixoto <tiago@skewed.de>\" not changed\n",
            "gpg: Total number processed: 1\n",
            "gpg:              unchanged: 1\n",
            "Hit:1 https://cloud.r-project.org/bin/linux/ubuntu jammy-cran40/ InRelease\n",
            "Hit:2 https://developer.download.nvidia.com/compute/cuda/repos/ubuntu2204/x86_64  InRelease\n",
            "Hit:3 http://security.ubuntu.com/ubuntu jammy-security InRelease\n",
            "Hit:4 http://archive.ubuntu.com/ubuntu jammy InRelease\n",
            "Hit:5 http://archive.ubuntu.com/ubuntu jammy-updates InRelease\n",
            "Ign:6 https://r2u.stat.illinois.edu/ubuntu jammy InRelease\n",
            "Hit:7 http://archive.ubuntu.com/ubuntu jammy-backports InRelease\n",
            "Hit:8 https://r2u.stat.illinois.edu/ubuntu jammy Release\n",
            "Hit:9 https://downloads.skewed.de/apt jammy InRelease\n",
            "Hit:10 https://ppa.launchpadcontent.net/deadsnakes/ppa/ubuntu jammy InRelease\n",
            "Hit:11 https://ppa.launchpadcontent.net/graphics-drivers/ppa/ubuntu jammy InRelease\n",
            "Hit:12 https://ppa.launchpadcontent.net/ubuntugis/ppa/ubuntu jammy InRelease\n",
            "Reading package lists... Done\n",
            "W: Skipping acquire of configured file 'main/source/Sources' as repository 'https://r2u.stat.illinois.edu/ubuntu jammy InRelease' does not seem to provide it (sources.list entry misspelt?)\n",
            "Reading package lists... Done\n",
            "Building dependency tree... Done\n",
            "Reading state information... Done\n",
            "python3-matplotlib is already the newest version (3.5.1-2build1).\n",
            "python3-graph-tool is already the newest version (2.77).\n",
            "The following packages were automatically installed and are no longer required:\n",
            "  libbz2-dev libpkgconf3 libreadline-dev\n",
            "Use 'apt autoremove' to remove them.\n",
            "The following NEW packages will be installed:\n",
            "  python3-cairo\n",
            "0 upgraded, 1 newly installed, 0 to remove and 65 not upgraded.\n",
            "Need to get 73.7 kB of archives.\n",
            "After this operation, 310 kB of additional disk space will be used.\n",
            "Get:1 http://archive.ubuntu.com/ubuntu jammy/main amd64 python3-cairo amd64 1.20.1-3build1 [73.7 kB]\n",
            "Fetched 73.7 kB in 0s (216 kB/s)\n",
            "Selecting previously unselected package python3-cairo:amd64.\n",
            "(Reading database ... 132750 files and directories currently installed.)\n",
            "Preparing to unpack .../python3-cairo_1.20.1-3build1_amd64.deb ...\n",
            "Unpacking python3-cairo:amd64 (1.20.1-3build1) ...\n",
            "Setting up python3-cairo:amd64 (1.20.1-3build1) ...\n"
          ]
        }
      ],
      "source": [
        "!mkdir -p /etc/apt/keyrings; mkdir -p ~/.gnupg; chmod 700 ~/.gnupg\n",
        "!gpg --no-default-keyring --keyring /etc/apt/keyrings/skewed.de.gpg --keyserver keyserver.ubuntu.com --recv-keys 612DEFB798507F25\n",
        "!echo \"deb [signed-by=/etc/apt/keyrings/skewed.de.gpg] https://downloads.skewed.de/apt $(lsb_release -s -c) main\" > /etc/apt/sources.list.d/skewed.list\n",
        "!apt-get update\n",
        "!apt-get install python3-graph-tool python3-matplotlib python3-cairo"
      ]
    },
    {
      "cell_type": "code",
      "execution_count": 2,
      "metadata": {
        "colab": {
          "base_uri": "https://localhost:8080/"
        },
        "id": "dLusWFrZatfM",
        "outputId": "996dc486-a76c-4f5f-f24d-c3dc69b65dee"
      },
      "outputs": [
        {
          "output_type": "stream",
          "name": "stdout",
          "text": [
            "Reading package lists... Done\n",
            "Building dependency tree... Done\n",
            "Reading state information... Done\n",
            "The following packages were automatically installed and are no longer required:\n",
            "  libbz2-dev libpkgconf3 libreadline-dev\n",
            "Use 'apt autoremove' to remove them.\n",
            "The following packages will be REMOVED:\n",
            "  python3-cairo*\n",
            "0 upgraded, 0 newly installed, 1 to remove and 65 not upgraded.\n",
            "After this operation, 310 kB disk space will be freed.\n",
            "(Reading database ... 132759 files and directories currently installed.)\n",
            "Removing python3-cairo:amd64 (1.20.1-3build1) ...\n",
            "Reading package lists... Done\n",
            "Building dependency tree... Done\n",
            "Reading state information... Done\n",
            "libcairo2-dev is already the newest version (1.16.0-5ubuntu2).\n",
            "pkg-config is already the newest version (0.29.2-1ubuntu3).\n",
            "python3-dev is already the newest version (3.10.6-1~22.04.1).\n",
            "The following packages were automatically installed and are no longer required:\n",
            "  libbz2-dev libpkgconf3 libreadline-dev\n",
            "Use 'apt autoremove' to remove them.\n",
            "0 upgraded, 0 newly installed, 0 to remove and 65 not upgraded.\n",
            "Collecting pycairo\n",
            "  Using cached pycairo-1.27.0-cp310-cp310-linux_x86_64.whl\n",
            "Installing collected packages: pycairo\n",
            "  Attempting uninstall: pycairo\n",
            "    Found existing installation: pycairo 1.27.0\n",
            "    Uninstalling pycairo-1.27.0:\n",
            "      Successfully uninstalled pycairo-1.27.0\n",
            "Successfully installed pycairo-1.27.0\n",
            "Requirement already satisfied: zstandard in /usr/local/lib/python3.10/dist-packages (0.23.0)\n"
          ]
        }
      ],
      "source": [
        "# O Colab usa uma instalação Python diferente da do sistema! Colaboração ruim! Precisamos de algumas soluções alternativas.\n",
        "!apt purge python3-cairo\n",
        "!apt install libcairo2-dev pkg-config python3-dev\n",
        "!pip install --force-reinstall pycairo\n",
        "!pip install zstandard"
      ]
    },
    {
      "cell_type": "markdown",
      "metadata": {
        "id": "BXEf2w1tax3Y"
      },
      "source": [
        "### Agora podemos usar a ferramenta gráfica como qualquer outro módulo Python"
      ]
    },
    {
      "cell_type": "code",
      "execution_count": 3,
      "metadata": {
        "id": "O4D7jrAEayXy"
      },
      "outputs": [],
      "source": [
        "import graph_tool.all as gt"
      ]
    },
    {
      "cell_type": "markdown",
      "metadata": {
        "id": "eywdBugMa3bP"
      },
      "source": [
        "# Redes Complexas\n",
        "---\n",
        "\n",
        "Redes selecionadas:\n",
        "\n",
        "https://networks.skewed.de/net/fresh_webs#fn:icon\n",
        "\n",
        "**Descrição:**\n",
        "Um conjunto de 26 redes de interações entre espécies em diferentes níveis tróficos em riachos na Nova Zelândia, Maine e Carolina do Norte. As redes incluem a identificação de espécies de insetos aquáticos, algas e peixes, além de suas interações tróficas. Matrizes de adjacência em Excel e texto simples estão disponíveis; as redes podem ser baixadas individualmente ou em grupo.\n",
        "\n",
        "**Citação:** R.M. Thompson and C.R. Townsend, \"Impacts on stream food webs of native and exotic forest: an intercontinental comparison.\" Ecology 84, 145-161 (2003)., https://doi.org/10.1890/0012-9658(2003)084[0145:iosfwo]2.0.co;2 [@sci-hub]\n",
        "\n",
        "----\n",
        "\n",
        "https://networks.skewed.de/net/bitcoin_alpha\n",
        "\n",
        "**Descrição:** Uma rede de relacionamentos de quem-confia-em-quém entre os usuários da plataforma **Bitcoin Alpha**. Cada aresta direcionada $(i, j, w)$ representa a avaliação do usuário $j$ pelo usuário $i$, na qual $i$ atribui a $j$ um peso $w$ em uma escala de $-10$ (total desconfiança) a $+10$ (total confiança) em passos de $1,1$.\n",
        "\n",
        "**Citação:**\n",
        "S. Kumar, F. Spezzano, V.S. Subrahmanian, and C. Faloutsos, \"Edge weight prediction in weighted signed networks.\" IEEE 16th International Conference on Data Mining (ICDM), 221-230 (2016), https://doi.org/10.1109/icdm.2016.0033 [@sci-hub]\n",
        "\n",
        "---\n",
        "https://networks.skewed.de/net/7th_graders\n",
        "\n",
        "**Descrição:** Uma pequena rede complexa de amizades entre $29$ alunos do sétimo ano em Victoria, Austrália. Os alunos indicaram colegas para três atividades diferentes (com quem você se dá bem na classe, quem são seus melhores amigos e com quem você preferiria trabalhar). A direção da aresta para cada um desses três tipos de arestas indica se o nó $i$ nomeou o nó $j$, e o peso da aresta indica a frequência dessa nomeação. Os alunos de 1 a 12 são meninos e os de 13 a 29 são meninas.\n",
        "\n",
        "**Citação:** M. Vickers and S. Chan, \"Representing Classroom Social Structure.\" Melbourne: Victoria Institute of Secondary Education, (1981)\n",
        "\n"
      ]
    },
    {
      "cell_type": "markdown",
      "metadata": {
        "id": "JJPnw_gtbjJK"
      },
      "source": [
        "### Importando bibliotecas"
      ]
    },
    {
      "cell_type": "code",
      "execution_count": 4,
      "metadata": {
        "id": "C-m_JrQjbiUT"
      },
      "outputs": [],
      "source": [
        "import networkx as nx\n",
        "import numpy as np\n",
        "import matplotlib.pyplot as plt"
      ]
    },
    {
      "cell_type": "markdown",
      "metadata": {
        "id": "EkWKNkyENW5u"
      },
      "source": [
        "**Exercício 1.** Caracterizar as redes selecionadas mencionando de onde elas foram obtidas, qual o significado dos vértices e arestas, o que a rede modela (pra que ela é usada em algum estudo). Calcular o número de vértices e arestas.\n"
      ]
    },
    {
      "cell_type": "markdown",
      "metadata": {
        "id": "rSXiOhNUL_I2"
      },
      "source": [
        "# Função para ler as redes e calculas os nós e arestas"
      ]
    },
    {
      "cell_type": "code",
      "execution_count": 5,
      "metadata": {
        "id": "7Xrj_mqXL9_c"
      },
      "outputs": [],
      "source": [
        "def convert_graph_tool_to_networkx(gt_graph):\n",
        "    \"\"\"\n",
        "    Converte um grafo do Graph-tool para NetworkX, mantendo a direção das arestas\n",
        "    e verifica se é acíclico.\n",
        "\n",
        "    Parâmetros:\n",
        "    gt_graph (GraphTool Graph): Grafo do Graph-tool.\n",
        "\n",
        "    Retorna:\n",
        "    G_nx (networkx.DiGraph): Grafo convertido para NetworkX.\n",
        "    N (int): Número de nós no grafo.\n",
        "    M (int): Número de arestas no grafo.\n",
        "    aciclico (bool): Indica se o grafo é acíclico.\n",
        "    \"\"\"\n",
        "    # Criando um grafo vazio do NetworkX\n",
        "    G_nx = nx.DiGraph()\n",
        "\n",
        "    # Adicionando arestas do grafo do Graph-tool para o grafo do NetworkX\n",
        "    for edge in gt_graph.edges():\n",
        "        G_nx.add_edge(edge.source(), edge.target())\n",
        "\n",
        "    # Convertendo rótulos de nós para inteiros\n",
        "    mapeamento = {node: idx for idx, node in enumerate(G_nx.nodes())}\n",
        "    G_nx = nx.relabel_nodes(G_nx, mapeamento)\n",
        "\n",
        "    # Obtendo o número de nós e arestas\n",
        "    N = len(G_nx)\n",
        "    M = G_nx.number_of_edges()\n",
        "\n",
        "    # Verificando se o grafo é acíclico\n",
        "    aciclico = nx.is_directed_acyclic_graph(G_nx)\n",
        "\n",
        "    return G_nx, N, M, aciclico\n"
      ]
    },
    {
      "cell_type": "markdown",
      "metadata": {
        "id": "E91l8RowMRCV"
      },
      "source": [
        "#### Calculando o número de nós e arestas da rede `fresh_webs`"
      ]
    },
    {
      "cell_type": "code",
      "execution_count": 6,
      "metadata": {
        "colab": {
          "base_uri": "https://localhost:8080/"
        },
        "id": "9Po3secAMQU-",
        "outputId": "71bedde3-b1db-4d27-cc20-851cf8772478"
      },
      "outputs": [
        {
          "output_type": "stream",
          "name": "stdout",
          "text": [
            "Número de nós: 84\n",
            "Número de arestas: 227\n",
            "É acíclico: True\n"
          ]
        }
      ],
      "source": [
        "G_gt = gt.collection.ns[\"fresh_webs/AkatoreA\"]\n",
        "G_nx, N, M, aciclico = convert_graph_tool_to_networkx(G_gt)\n",
        "print(\"Número de nós:\", N)\n",
        "print(\"Número de arestas:\", M)\n",
        "print(f\"É acíclico: {aciclico}\")"
      ]
    },
    {
      "cell_type": "markdown",
      "metadata": {
        "id": "1hojFDUeMcPF"
      },
      "source": [
        "#### Calculando o número de nós e arestas da rede `bitcoin_alpha`"
      ]
    },
    {
      "cell_type": "code",
      "execution_count": 7,
      "metadata": {
        "colab": {
          "base_uri": "https://localhost:8080/"
        },
        "id": "DHlV_VW3N4hI",
        "outputId": "7cb4b084-9622-43b5-97ec-2cd8b46059d7"
      },
      "outputs": [
        {
          "output_type": "stream",
          "name": "stdout",
          "text": [
            "Número de nós: 3783\n",
            "Número de arestas: 24186\n",
            " É acíclico: False\n"
          ]
        }
      ],
      "source": [
        "G_gt = gt.collection.ns[\"bitcoin_alpha\"]\n",
        "G_nx, N, M, aciclico = convert_graph_tool_to_networkx(G_gt)\n",
        "print(\"Número de nós:\", N)\n",
        "print(\"Número de arestas:\", M)\n",
        "print(f\" É acíclico: {aciclico}\")"
      ]
    },
    {
      "cell_type": "markdown",
      "metadata": {
        "id": "2Y8HeSToMun5"
      },
      "source": [
        "#### Calculando o número de nós e arestas da rede `7th_graders`"
      ]
    },
    {
      "cell_type": "code",
      "execution_count": 8,
      "metadata": {
        "colab": {
          "base_uri": "https://localhost:8080/"
        },
        "id": "9UdlCYtrbBLi",
        "outputId": "6d252dc5-1582-41b0-919b-2dc699041f8e"
      },
      "outputs": [
        {
          "output_type": "stream",
          "name": "stdout",
          "text": [
            "Número de nós: 29\n",
            "Número de arestas: 376\n",
            " É acíclico: False\n"
          ]
        }
      ],
      "source": [
        "# Importando a rede do Graph-tool\n",
        "G_gt = gt.collection.ns[\"7th_graders\"]\n",
        "G_nx, N, M, aciclico = convert_graph_tool_to_networkx(G_gt)\n",
        "print(\"Número de nós:\", N)\n",
        "print(\"Número de arestas:\", M)\n",
        "print(f\" É acíclico: {aciclico}\")"
      ]
    },
    {
      "cell_type": "markdown",
      "metadata": {
        "id": "WuKKo6cHNjZP"
      },
      "source": [
        "**Exercício 2.** Para cada rede selecionada, calcular a matriz de adjacências A (remover pesos caso necessário). Transformar a rede direcionada em não direcionada (i.e. transformar a matriz de adjacências de não simétrica para simétrica). Calcular $X = A^3$ e $X = A^4$. (i.e. multiplique as\n",
        "matrizes de forma a gerar $A\\cdot A\\cdot A$ e $A\\cdot A\\cdot A\\cdot A$). Mostrar: quantidade de elementos das matrizes $X$ e $Y$ que possuem valor não nulo.\n",
        "**Opcional:** Verifique que o elemento $i, j$ da matriz $A^n$ representa o número de caminhos de comprimento $n$ entre os vértices $i$ e $j$."
      ]
    },
    {
      "cell_type": "markdown",
      "metadata": {
        "id": "2kXpXYZ7Pvup"
      },
      "source": [
        "# Função para transformar a rede direcionada em não direcionadas"
      ]
    },
    {
      "cell_type": "code",
      "execution_count": 9,
      "metadata": {
        "id": "yhbS90KqOJUC"
      },
      "outputs": [],
      "source": [
        "def processar_grafo(gt_graph):\n",
        "    \"\"\"\n",
        "    Converte um grafo do Graph-tool para NetworkX, removendo auto-laços, considerando\n",
        "    apenas o maior componente conectado, transformando o grafo em não direcionado,\n",
        "    e calcula a matriz adjacente e as potências dessa matriz.\n",
        "\n",
        "    Parâmetros:\n",
        "    gt_graph (GraphTool Graph): Grafo do Graph-tool.\n",
        "\n",
        "    Retorna:\n",
        "    A_potencia_n (np.ndarray): Matriz A^n após o cálculo.\n",
        "    A_potencia_m (np.ndarray): Matriz A^m após o cálculo.\n",
        "    \"\"\"\n",
        "    # Criando um grafo vazio do NetworkX\n",
        "    G_nx = nx.DiGraph()\n",
        "\n",
        "    # Adicionando arestas do grafo do Graph-tool para o grafo do NetworkX\n",
        "    for edge in gt_graph.edges():\n",
        "        G_nx.add_edge(edge.source(), edge.target())\n",
        "\n",
        "    # Removendo auto-laços\n",
        "    G_nx.remove_edges_from(nx.selfloop_edges(G_nx))\n",
        "\n",
        "    # Convertendo o grafo para não direcionado\n",
        "    G_nx = G_nx.to_undirected()\n",
        "\n",
        "    # Obtendo o maior componente conectado\n",
        "    Gcc = sorted(nx.connected_components(G_nx), key=len, reverse=True)\n",
        "    G_nx = G_nx.subgraph(Gcc[0]).copy()\n",
        "\n",
        "    # Convertendo rótulos de nós para inteiros\n",
        "    mapeamento = {node: idx for idx, node in enumerate(G_nx.nodes())}\n",
        "    G_nx = nx.relabel_nodes(G_nx, mapeamento)\n",
        "\n",
        "    # Obtendo o número de nós e arestas\n",
        "    N = len(G_nx)\n",
        "    M = G_nx.number_of_edges()\n",
        "    print(f\"Número de nós: {N}\")\n",
        "    print(f\"Número de arestas: {M}\")\n",
        "\n",
        "    # Calcula a matriz adjacente do grafo\n",
        "    A = nx.adjacency_matrix(G_nx).todense()\n",
        "\n",
        "    # Obtem o número de linhas e colunas da matriz\n",
        "    linhas, colunas = A.shape\n",
        "    print(f\"A matriz adjacente tem {linhas} linhas e {colunas} colunas.\")\n",
        "\n",
        "    # Conta e exibe a quantidade de elementos não nulos em A\n",
        "    elementos_nao_nulos_A = np.count_nonzero(A)\n",
        "    print(f\"Quantidade de elementos não nulos na matriz adjacente A: {elementos_nao_nulos_A}\")\n",
        "\n",
        "    print(\"Matriz adjacente:\")\n",
        "    print(A)\n",
        "\n",
        "    # Solicita os valores de n e m\n",
        "    n = int(input(\"Digite o valor de n para calcular A^n: \"))\n",
        "    m = int(input(\"Digite o valor de m para calcular A^m: \"))\n",
        "\n",
        "    # Calcula A^n\n",
        "    A_potencia_n = np.linalg.matrix_power(A, n)\n",
        "    elementos_nao_nulos_A_potencia_n = np.count_nonzero(A_potencia_n)\n",
        "    print(f\"Quantidade de elementos não nulos na matriz A^{n}: {elementos_nao_nulos_A_potencia_n}\")\n",
        "    print(f\"Matriz A^{n}:\")\n",
        "    print(A_potencia_n)\n",
        "\n",
        "    # Calcula A^m\n",
        "    A_potencia_m = np.linalg.matrix_power(A, m)\n",
        "    elementos_nao_nulos_A_potencia_m = np.count_nonzero(A_potencia_m)\n",
        "    print(f\"Quantidade de elementos não nulos na matriz A^{m}: {elementos_nao_nulos_A_potencia_m}\")\n",
        "    print(f\"Matriz A^{m}:\")\n",
        "    print(A_potencia_m)\n",
        "\n",
        "    return A_potencia_n, A_potencia_m"
      ]
    },
    {
      "cell_type": "markdown",
      "source": [
        "#### Calculando $A^{3}$ e $A^{4}$ assim como a quantidade de elemtnos não nulos da rede `fresh_webs`"
      ],
      "metadata": {
        "id": "9FfkNGX0rWOh"
      }
    },
    {
      "cell_type": "code",
      "execution_count": 10,
      "metadata": {
        "colab": {
          "base_uri": "https://localhost:8080/"
        },
        "id": "kH0PVuzVjXKe",
        "outputId": "f2928444-006f-4ce6-9fc7-5713c37ec49c"
      },
      "outputs": [
        {
          "output_type": "stream",
          "name": "stdout",
          "text": [
            "Número de nós: 84\n",
            "Número de arestas: 227\n",
            "A matriz adjacente tem 84 linhas e 84 colunas.\n",
            "Quantidade de elementos não nulos na matriz adjacente A: 454\n",
            "Matriz adjacente:\n",
            "[[0 1 1 ... 0 0 0]\n",
            " [1 0 0 ... 0 0 0]\n",
            " [1 0 0 ... 0 0 0]\n",
            " ...\n",
            " [0 0 0 ... 0 0 0]\n",
            " [0 0 0 ... 0 0 0]\n",
            " [0 0 0 ... 0 0 0]]\n",
            "Digite o valor de n para calcular A^n: 3\n",
            "Digite o valor de m para calcular A^m: 4\n",
            "Quantidade de elementos não nulos na matriz A^3: 4285\n",
            "Matriz A^3:\n",
            "[[20 48 97 ...  0  0  6]\n",
            " [48 14 23 ...  1  2  4]\n",
            " [97 23  2 ...  5  6 13]\n",
            " ...\n",
            " [ 0  1  5 ...  0  0  0]\n",
            " [ 0  2  6 ...  0  0  0]\n",
            " [ 6  4 13 ...  0  0  0]]\n",
            "Quantidade de elementos não nulos na matriz A^4: 5520\n",
            "Matriz A^4:\n",
            "[[2274  535  114 ...  114  130  302]\n",
            " [ 535  251  165 ...   25   22  107]\n",
            " [ 114  165  455 ...    1    2   18]\n",
            " ...\n",
            " [ 114   25    1 ...   20    2   17]\n",
            " [ 130   22    2 ...    2   20   12]\n",
            " [ 302  107   18 ...   17   12   63]]\n",
            "Matriz A^n resultante:\n",
            "[[20 48 97 ...  0  0  6]\n",
            " [48 14 23 ...  1  2  4]\n",
            " [97 23  2 ...  5  6 13]\n",
            " ...\n",
            " [ 0  1  5 ...  0  0  0]\n",
            " [ 0  2  6 ...  0  0  0]\n",
            " [ 6  4 13 ...  0  0  0]]\n",
            "Matriz A^m resultante:\n",
            "[[2274  535  114 ...  114  130  302]\n",
            " [ 535  251  165 ...   25   22  107]\n",
            " [ 114  165  455 ...    1    2   18]\n",
            " ...\n",
            " [ 114   25    1 ...   20    2   17]\n",
            " [ 130   22    2 ...    2   20   12]\n",
            " [ 302  107   18 ...   17   12   63]]\n"
          ]
        }
      ],
      "source": [
        "# Chamada da função com o grafo carregado\n",
        "G_gt = gt.collection.ns[\"fresh_webs/AkatoreA\"]\n",
        "A_potencia_n, A_potencia_m = processar_grafo(G_gt)\n",
        "\n",
        "# Imprimir as matrizes resultantes\n",
        "print(\"Matriz A^n resultante:\")\n",
        "print(A_potencia_n)\n",
        "\n",
        "print(\"Matriz A^m resultante:\")\n",
        "print(A_potencia_m)"
      ]
    },
    {
      "cell_type": "markdown",
      "source": [
        "#### Calculando $A^{3}$ e $A^{4}$ assim como a quantidade de elemtnos não nulos da rede `bitcoin_alpha`"
      ],
      "metadata": {
        "id": "8anNHJwJuOKE"
      }
    },
    {
      "cell_type": "code",
      "source": [
        "# Chamada da função com o grafo carregado\n",
        "G_gt = gt.collection.ns[\"bitcoin_alpha\"]\n",
        "A_potencia_n, A_potencia_m = processar_grafo(G_gt)\n",
        "\n",
        "# Imprimir as matrizes resultantes\n",
        "print(\"Matriz A^n resultante:\")\n",
        "print(A_potencia_n)\n",
        "\n",
        "print(\"Matriz A^m resultante:\")\n",
        "print(A_potencia_m)"
      ],
      "metadata": {
        "id": "3nvjOxmBujuA"
      },
      "execution_count": null,
      "outputs": []
    },
    {
      "cell_type": "markdown",
      "source": [
        "#### Calculando $A^{3}$ e $A^{4}$ assim como a quantidade de elemtnos não nulos da rede `7th_graders`"
      ],
      "metadata": {
        "id": "kb3D0-wCuUer"
      }
    },
    {
      "cell_type": "code",
      "execution_count": 12,
      "metadata": {
        "id": "Q5e6vYDAOJaC",
        "colab": {
          "base_uri": "https://localhost:8080/"
        },
        "outputId": "9c8fc5f7-85ef-4c36-8ab4-ac83cec43111"
      },
      "outputs": [
        {
          "output_type": "stream",
          "name": "stdout",
          "text": [
            "Número de nós: 29\n",
            "Número de arestas: 250\n",
            "A matriz adjacente tem 29 linhas e 29 colunas.\n",
            "Quantidade de elementos não nulos na matriz adjacente A: 500\n",
            "Matriz adjacente:\n",
            "[[0 1 1 1 1 1 1 1 1 1 1 1 1 1 1 0 0 0 0 0 0 1 0 0 0 0 0 0 0]\n",
            " [1 0 1 1 1 1 1 1 1 1 1 1 1 1 1 1 1 1 1 1 1 0 1 0 1 1 0 0 0]\n",
            " [1 1 0 1 1 1 1 1 1 1 1 1 1 1 1 1 1 1 1 1 1 1 1 1 1 1 1 1 1]\n",
            " [1 1 1 0 1 1 1 1 1 1 1 1 1 1 1 1 1 1 1 1 1 1 1 1 1 1 1 1 1]\n",
            " [1 1 1 1 0 1 1 1 0 0 1 0 0 1 1 1 0 0 1 1 0 1 0 1 0 0 0 0 0]\n",
            " [1 1 1 1 1 0 1 1 1 1 1 1 1 1 1 0 0 0 0 1 1 1 1 0 0 1 1 0 0]\n",
            " [1 1 1 1 1 1 0 1 1 1 1 1 0 1 1 0 0 0 1 1 1 1 1 0 0 1 1 1 0]\n",
            " [1 1 1 1 1 1 1 0 1 0 0 1 1 0 0 0 0 0 0 1 0 1 0 1 1 1 1 0 0]\n",
            " [1 1 1 1 0 1 1 1 0 1 1 1 1 1 1 0 0 0 0 1 1 1 1 1 1 1 1 1 0]\n",
            " [1 1 1 1 0 1 1 0 1 0 1 0 1 1 1 0 0 0 0 1 1 0 1 1 0 1 1 0 0]\n",
            " [1 1 1 1 1 1 1 0 1 1 0 1 1 1 1 0 0 0 0 1 1 0 1 0 1 1 1 0 0]\n",
            " [1 1 1 1 0 1 1 1 1 0 1 0 1 0 0 0 0 0 0 1 1 1 1 1 1 1 1 0 0]\n",
            " [1 1 1 1 0 1 0 1 1 1 1 1 0 0 1 0 0 0 0 1 1 0 1 1 1 1 1 0 0]\n",
            " [1 1 1 1 1 1 1 0 1 1 1 0 0 0 1 1 1 1 1 1 1 1 0 1 1 0 0 0 0]\n",
            " [1 1 1 1 1 1 1 0 1 1 1 0 1 1 0 0 1 0 1 1 1 0 1 1 1 0 0 0 0]\n",
            " [0 1 1 1 1 0 0 0 0 0 0 0 0 1 0 0 1 1 0 0 0 1 0 0 0 0 0 0 0]\n",
            " [0 1 1 1 0 0 0 0 0 0 0 0 0 1 1 1 0 1 1 0 0 1 0 1 1 0 0 0 0]\n",
            " [0 1 1 1 0 0 0 0 0 0 0 0 0 1 0 1 1 0 0 0 0 1 0 0 0 0 0 0 0]\n",
            " [0 1 1 1 1 0 1 0 0 0 0 0 0 1 1 0 1 0 0 0 0 1 0 0 0 0 0 0 0]\n",
            " [0 1 1 1 1 1 1 1 1 1 1 1 1 1 1 0 0 0 0 0 1 0 1 1 1 1 1 0 0]\n",
            " [0 1 1 1 0 1 1 0 1 1 1 1 1 1 1 0 0 0 0 1 0 0 1 1 0 1 1 0 1]\n",
            " [1 0 1 1 1 1 1 1 1 0 0 1 0 1 0 1 1 1 1 0 0 0 1 1 1 1 0 1 1]\n",
            " [0 1 1 1 0 1 1 0 1 1 1 1 1 0 1 0 0 0 0 1 1 1 0 1 1 1 1 0 1]\n",
            " [0 0 1 1 1 0 0 1 1 1 0 1 1 1 1 0 1 0 0 1 1 1 1 0 1 1 1 0 0]\n",
            " [0 1 1 1 0 0 0 1 1 0 1 1 1 1 1 0 1 0 0 1 0 1 1 1 0 1 1 0 0]\n",
            " [0 1 1 1 0 1 1 1 1 1 1 1 1 0 0 0 0 0 0 1 1 1 1 1 1 0 1 1 1]\n",
            " [0 0 1 1 0 1 1 1 1 1 1 1 1 0 0 0 0 0 0 1 1 0 1 1 1 1 0 1 1]\n",
            " [0 0 1 1 0 0 1 0 1 0 0 0 0 0 0 0 0 0 0 0 0 1 0 0 0 1 1 0 1]\n",
            " [0 0 1 1 0 0 0 0 0 0 0 0 0 0 0 0 0 0 0 0 1 1 1 0 0 1 1 1 0]]\n",
            "Digite o valor de n para calcular A^n: 3\n",
            "Digite o valor de m para calcular A^m: 4\n",
            "Quantidade de elementos não nulos na matriz A^3: 841\n",
            "Matriz A^3:\n",
            "[[174 253 290 290 175 235 239 193 253 211 229 219 218 221 223  82 113  73\n",
            "  101 233 207 203 216 199 192 220 200  88  88]\n",
            " [253 324 383 383 240 323 320 264 345 287 307 295 291 294 295 126 165 115\n",
            "  155 322 293 256 306 274 277 306 265 129 123]\n",
            " [290 383 444 445 270 375 372 306 399 330 358 343 338 336 340 145 187 132\n",
            "  177 375 339 309 354 327 321 357 318 158 152]\n",
            " [290 383 445 444 270 375 372 306 399 330 358 343 338 336 340 145 187 132\n",
            "  177 375 339 309 354 327 321 357 318 158 152]\n",
            " [175 240 270 270 154 222 222 177 226 184 215 189 190 206 207  93 109  77\n",
            "  110 220 189 193 196 198 180 198 178  84  80]\n",
            " [235 323 375 375 222 304 306 253 333 275 298 287 287 281 288 101 143  91\n",
            "  128 313 283 260 296 259 253 302 276 120 114]\n",
            " [239 320 372 372 222 306 300 255 329 274 297 285 277 280 286 108 145  97\n",
            "  138 311 283 259 296 260 254 299 271 128 115]\n",
            " [193 264 306 306 177 253 255 196 272 215 236 229 232 217 223  84 114  76\n",
            "  104 254 224 212 232 222 215 244 223  96  98]\n",
            " [253 345 399 399 226 333 329 272 352 293 322 306 306 293 303 112 148  99\n",
            "  140 337 305 275 318 291 280 322 294 137 128]\n",
            " [211 287 330 330 184 275 274 215 293 236 266 245 253 242 250  89 120  78\n",
            "  113 279 249 220 261 241 225 266 243 103 102]\n",
            " [229 307 358 358 215 298 297 236 322 266 282 276 277 266 273  97 136  89\n",
            "  124 301 274 238 285 252 252 291 263 114 111]\n",
            " [219 295 343 343 189 287 285 229 306 245 276 256 263 241 251  93 124  82\n",
            "  117 291 262 235 271 254 242 277 254 113 110]\n",
            " [218 291 338 338 190 287 277 232 306 253 277 263 260 242 258  92 122  82\n",
            "  118 291 264 225 274 250 242 278 253 113 108]\n",
            " [221 294 336 336 206 281 280 217 293 242 266 241 242 250 255 117 146 105\n",
            "  141 278 249 236 249 246 241 251 223 107 105]\n",
            " [223 295 340 340 207 288 286 223 303 250 273 251 258 255 254 105 142  95\n",
            "  133 286 258 226 266 249 244 262 233 109 106]\n",
            " [ 82 126 145 145  93 101 108  84 112  89  97  93  92 117 105  50  72  47\n",
            "   56 102  90 111  95  90  88  97  87  40  37]\n",
            " [113 165 187 187 109 143 145 114 148 120 136 124 122 146 142  72  84  63\n",
            "   80 141 123 139 127 134 126 130 116  56  54]\n",
            " [ 73 115 132 132  77  91  97  76  99  78  89  82  82 105  95  47  63  40\n",
            "   50  93  80 102  85  84  78  87  79  36  34]\n",
            " [101 155 177 177 110 128 138 104 140 113 124 117 118 141 133  56  80  50\n",
            "   64 129 113 132 118 112 107 122 111  47  46]\n",
            " [233 322 375 375 220 313 311 254 337 279 301 291 291 278 286 102 141  93\n",
            "  129 312 285 250 299 270 264 303 274 122 120]\n",
            " [207 293 339 339 189 283 283 224 305 249 274 262 264 249 258  90 123  80\n",
            "  113 285 252 226 268 248 232 275 251 109 115]\n",
            " [203 256 309 309 193 260 259 212 275 220 238 235 225 236 226 111 139 102\n",
            "  132 250 226 208 244 227 226 246 208 114 110]\n",
            " [216 306 354 354 196 296 296 232 318 261 285 271 274 249 266  95 127  85\n",
            "  118 299 268 244 274 261 250 285 263 115 121]\n",
            " [199 274 327 327 198 259 260 222 291 241 252 254 250 246 249  90 134  84\n",
            "  112 270 248 227 261 222 227 266 240 107 101]\n",
            " [192 277 321 321 180 253 254 215 280 225 252 242 242 241 244  88 126  78\n",
            "  107 264 232 226 250 227 212 256 235 101  99]\n",
            " [220 306 357 357 198 302 299 244 322 266 291 277 278 251 262  97 130  87\n",
            "  122 303 275 246 285 266 256 288 265 127 126]\n",
            " [200 265 318 318 178 276 271 223 294 243 263 254 253 223 233  87 116  79\n",
            "  111 274 251 208 263 240 235 265 236 117 117]\n",
            " [ 88 129 158 158  84 120 128  96 137 103 114 113 113 107 109  40  56  36\n",
            "   47 122 109 114 115 107 101 127 117  50  56]\n",
            " [ 88 123 152 152  80 114 115  98 128 102 111 110 108 105 106  37  54  34\n",
            "   46 120 115 110 121 101  99 126 117  56  48]]\n",
            "Quantidade de elementos não nulos na matriz A^4: 841\n",
            "Matriz A^4:\n",
            "[[3452 4607 5348 5348 3165 4467 4434 3593 4753 3900 4269 4044 4037 3975\n",
            "  4049 1618 2127 1452 2007 4483 4037 3661 4202 3877 3773 4256 3820 1783\n",
            "  1714]\n",
            " [4607 6345 7333 7333 4279 6029 6025 4857 6447 5284 5802 5492 5502 5443\n",
            "  5542 2160 2882 1931 2660 6072 5443 5076 5669 5267 5075 5767 5228 2381\n",
            "  2321]\n",
            " [5348 7333 8536 8535 4982 7006 7006 5666 7518 6150 6729 6410 6404 6318\n",
            "  6420 2506 3359 2249 3086 7055 6346 5890 6625 6111 5919 6746 6093 2796\n",
            "  2724]\n",
            " [5348 7333 8535 8536 4982 7006 7006 5666 7518 6150 6729 6410 6404 6318\n",
            "  6420 2506 3359 2249 3086 7055 6346 5890 6625 6111 5919 6746 6093 2796\n",
            "  2724]\n",
            " [3165 4279 4982 4982 3018 4099 4103 3325 4403 3622 3916 3759 3734 3754\n",
            "  3776 1519 2044 1381 1871 4111 3711 3436 3871 3536 3482 3923 3510 1637\n",
            "  1578]\n",
            " [4467 6029 7006 7006 4099 5868 5827 4710 6249 5134 5614 5331 5328 5165\n",
            "  5289 2070 2734 1858 2573 5876 5292 4778 5511 5102 4949 5590 5033 2341\n",
            "  2287]\n",
            " [4434 6025 7006 7006 4103 5827 5822 4676 6224 5098 5576 5300 5309 5172\n",
            "  5275 2067 2746 1856 2556 5838 5250 4800 5470 5070 4914 5564 5013 2317\n",
            "  2280]\n",
            " [3593 4857 5666 5666 3325 4710 4676 3857 5047 4156 4534 4339 4307 4205\n",
            "  4291 1672 2229 1503 2074 4741 4281 3889 4483 4091 3982 4540 4085 1916\n",
            "  1843]\n",
            " [4753 6447 7518 7518 4403 6249 6224 5047 6712 5501 5993 5732 5724 5541\n",
            "  5669 2184 2936 1971 2717 6288 5670 5137 5919 5428 5282 6021 5429 2498\n",
            "  2449]\n",
            " [3900 5284 6150 6150 3622 5134 5098 4156 5501 4550 4933 4718 4702 4550\n",
            "  4669 1791 2405 1618 2237 5165 4673 4197 4864 4441 4341 4927 4443 2058\n",
            "  2002]\n",
            " [4269 5802 6729 6729 3916 5614 5576 4534 5993 4933 5408 5120 5123 4968\n",
            "  5099 1967 2614 1760 2448 5648 5083 4606 5296 4887 4721 5367 4850 2238\n",
            "  2181]\n",
            " [4044 5492 6410 6410 3759 5331 5300 4339 5732 4718 5120 4932 4901 4739\n",
            "  4853 1852 2496 1674 2306 5369 4848 4381 5075 4622 4509 5160 4653 2153\n",
            "  2098]\n",
            " [4037 5502 6404 6404 3734 5328 5309 4307 5724 4702 5123 4901 4913 4719\n",
            "  4838 1828 2476 1648 2281 5373 4844 4370 5059 4629 4498 5142 4651 2123\n",
            "  2083]\n",
            " [3975 5443 6318 6318 3754 5165 5172 4205 5541 4550 4968 4739 4719 4769\n",
            "  4797 1909 2557 1715 2339 5198 4668 4369 4895 4491 4359 4962 4460 2060\n",
            "  1987]\n",
            " [4049 5542 6420 6420 3776 5289 5275 4291 5669 4669 5099 4853 4838 4797\n",
            "  4896 1900 2536 1703 2345 5335 4795 4427 5002 4598 4456 5084 4592 2096\n",
            "  2034]\n",
            " [1618 2160 2506 2506 1519 2070 2067 1672 2184 1791 1967 1852 1828 1909\n",
            "  1900  856 1080  766 1022 2054 1838 1752 1915 1817 1770 1932 1705  842\n",
            "   810]\n",
            " [2127 2882 3359 3359 2044 2734 2746 2229 2936 2405 2614 2496 2476 2557\n",
            "  2536 1080 1441  980 1304 2744 2467 2342 2582 2385 2342 2607 2317 1106\n",
            "  1065]\n",
            " [1452 1931 2249 2249 1381 1858 1856 1503 1971 1618 1760 1674 1648 1715\n",
            "  1703  766  980  696  918 1843 1659 1568 1729 1625 1600 1744 1535  762\n",
            "   733]\n",
            " [2007 2660 3086 3086 1871 2573 2556 2074 2717 2237 2448 2306 2281 2339\n",
            "  2345 1022 1304  918 1243 2558 2299 2135 2392 2242 2190 2406 2130 1043\n",
            "   997]\n",
            " [4483 6072 7055 7055 4111 5876 5838 4741 6288 5165 5648 5369 5373 5198\n",
            "  5335 2054 2744 1843 2558 5928 5337 4830 5559 5114 4959 5645 5102 2345\n",
            "  2283]\n",
            " [4037 5443 6346 6346 3711 5292 5250 4281 5670 4673 5083 4848 4844 4668\n",
            "  4795 1838 2467 1659 2299 5337 4840 4333 5033 4590 4483 5101 4606 2133\n",
            "  2059]\n",
            " [3661 5076 5890 5890 3436 4778 4800 3889 5137 4197 4606 4381 4370 4369\n",
            "  4427 1752 2342 1568 2135 4830 4333 4142 4513 4187 4043 4611 4185 1924\n",
            "  1864]\n",
            " [4202 5669 6625 6625 3871 5511 5470 4483 5919 4864 5296 5075 5059 4895\n",
            "  5002 1915 2582 1729 2392 5559 5033 4513 5272 4785 4662 5342 4814 2235\n",
            "  2157]\n",
            " [3877 5267 6111 6111 3536 5102 5070 4091 5428 4441 4887 4622 4629 4491\n",
            "  4598 1817 2385 1625 2242 5114 4590 4187 4785 4478 4312 4860 4385 2039\n",
            "  2003]\n",
            " [3773 5075 5919 5919 3482 4949 4914 3982 5282 4341 4721 4509 4498 4359\n",
            "  4456 1770 2342 1600 2190 4959 4483 4043 4662 4312 4219 4728 4246 1992\n",
            "  1942]\n",
            " [4256 5767 6746 6746 3923 5590 5564 4540 6021 4927 5367 5160 5142 4962\n",
            "  5084 1932 2607 1744 2406 5645 5101 4611 5342 4860 4728 5448 4919 2260\n",
            "  2200]\n",
            " [3820 5228 6093 6093 3510 5033 5013 4085 5429 4443 4850 4653 4651 4460\n",
            "  4592 1705 2317 1535 2130 5102 4606 4185 4814 4385 4246 4919 4475 2027\n",
            "  1976]\n",
            " [1783 2381 2796 2796 1637 2341 2317 1916 2498 2058 2238 2153 2123 2060\n",
            "  2096  842 1106  762 1043 2345 2133 1924 2235 2039 1992 2260 2027  995\n",
            "   948]\n",
            " [1714 2321 2724 2724 1578 2287 2280 1843 2449 2002 2181 2098 2083 1987\n",
            "  2034  810 1065  733  997 2283 2059 1864 2157 2003 1942 2200 1976  948\n",
            "   949]]\n",
            "Matriz A^n resultante:\n",
            "[[174 253 290 290 175 235 239 193 253 211 229 219 218 221 223  82 113  73\n",
            "  101 233 207 203 216 199 192 220 200  88  88]\n",
            " [253 324 383 383 240 323 320 264 345 287 307 295 291 294 295 126 165 115\n",
            "  155 322 293 256 306 274 277 306 265 129 123]\n",
            " [290 383 444 445 270 375 372 306 399 330 358 343 338 336 340 145 187 132\n",
            "  177 375 339 309 354 327 321 357 318 158 152]\n",
            " [290 383 445 444 270 375 372 306 399 330 358 343 338 336 340 145 187 132\n",
            "  177 375 339 309 354 327 321 357 318 158 152]\n",
            " [175 240 270 270 154 222 222 177 226 184 215 189 190 206 207  93 109  77\n",
            "  110 220 189 193 196 198 180 198 178  84  80]\n",
            " [235 323 375 375 222 304 306 253 333 275 298 287 287 281 288 101 143  91\n",
            "  128 313 283 260 296 259 253 302 276 120 114]\n",
            " [239 320 372 372 222 306 300 255 329 274 297 285 277 280 286 108 145  97\n",
            "  138 311 283 259 296 260 254 299 271 128 115]\n",
            " [193 264 306 306 177 253 255 196 272 215 236 229 232 217 223  84 114  76\n",
            "  104 254 224 212 232 222 215 244 223  96  98]\n",
            " [253 345 399 399 226 333 329 272 352 293 322 306 306 293 303 112 148  99\n",
            "  140 337 305 275 318 291 280 322 294 137 128]\n",
            " [211 287 330 330 184 275 274 215 293 236 266 245 253 242 250  89 120  78\n",
            "  113 279 249 220 261 241 225 266 243 103 102]\n",
            " [229 307 358 358 215 298 297 236 322 266 282 276 277 266 273  97 136  89\n",
            "  124 301 274 238 285 252 252 291 263 114 111]\n",
            " [219 295 343 343 189 287 285 229 306 245 276 256 263 241 251  93 124  82\n",
            "  117 291 262 235 271 254 242 277 254 113 110]\n",
            " [218 291 338 338 190 287 277 232 306 253 277 263 260 242 258  92 122  82\n",
            "  118 291 264 225 274 250 242 278 253 113 108]\n",
            " [221 294 336 336 206 281 280 217 293 242 266 241 242 250 255 117 146 105\n",
            "  141 278 249 236 249 246 241 251 223 107 105]\n",
            " [223 295 340 340 207 288 286 223 303 250 273 251 258 255 254 105 142  95\n",
            "  133 286 258 226 266 249 244 262 233 109 106]\n",
            " [ 82 126 145 145  93 101 108  84 112  89  97  93  92 117 105  50  72  47\n",
            "   56 102  90 111  95  90  88  97  87  40  37]\n",
            " [113 165 187 187 109 143 145 114 148 120 136 124 122 146 142  72  84  63\n",
            "   80 141 123 139 127 134 126 130 116  56  54]\n",
            " [ 73 115 132 132  77  91  97  76  99  78  89  82  82 105  95  47  63  40\n",
            "   50  93  80 102  85  84  78  87  79  36  34]\n",
            " [101 155 177 177 110 128 138 104 140 113 124 117 118 141 133  56  80  50\n",
            "   64 129 113 132 118 112 107 122 111  47  46]\n",
            " [233 322 375 375 220 313 311 254 337 279 301 291 291 278 286 102 141  93\n",
            "  129 312 285 250 299 270 264 303 274 122 120]\n",
            " [207 293 339 339 189 283 283 224 305 249 274 262 264 249 258  90 123  80\n",
            "  113 285 252 226 268 248 232 275 251 109 115]\n",
            " [203 256 309 309 193 260 259 212 275 220 238 235 225 236 226 111 139 102\n",
            "  132 250 226 208 244 227 226 246 208 114 110]\n",
            " [216 306 354 354 196 296 296 232 318 261 285 271 274 249 266  95 127  85\n",
            "  118 299 268 244 274 261 250 285 263 115 121]\n",
            " [199 274 327 327 198 259 260 222 291 241 252 254 250 246 249  90 134  84\n",
            "  112 270 248 227 261 222 227 266 240 107 101]\n",
            " [192 277 321 321 180 253 254 215 280 225 252 242 242 241 244  88 126  78\n",
            "  107 264 232 226 250 227 212 256 235 101  99]\n",
            " [220 306 357 357 198 302 299 244 322 266 291 277 278 251 262  97 130  87\n",
            "  122 303 275 246 285 266 256 288 265 127 126]\n",
            " [200 265 318 318 178 276 271 223 294 243 263 254 253 223 233  87 116  79\n",
            "  111 274 251 208 263 240 235 265 236 117 117]\n",
            " [ 88 129 158 158  84 120 128  96 137 103 114 113 113 107 109  40  56  36\n",
            "   47 122 109 114 115 107 101 127 117  50  56]\n",
            " [ 88 123 152 152  80 114 115  98 128 102 111 110 108 105 106  37  54  34\n",
            "   46 120 115 110 121 101  99 126 117  56  48]]\n",
            "Matriz A^m resultante:\n",
            "[[3452 4607 5348 5348 3165 4467 4434 3593 4753 3900 4269 4044 4037 3975\n",
            "  4049 1618 2127 1452 2007 4483 4037 3661 4202 3877 3773 4256 3820 1783\n",
            "  1714]\n",
            " [4607 6345 7333 7333 4279 6029 6025 4857 6447 5284 5802 5492 5502 5443\n",
            "  5542 2160 2882 1931 2660 6072 5443 5076 5669 5267 5075 5767 5228 2381\n",
            "  2321]\n",
            " [5348 7333 8536 8535 4982 7006 7006 5666 7518 6150 6729 6410 6404 6318\n",
            "  6420 2506 3359 2249 3086 7055 6346 5890 6625 6111 5919 6746 6093 2796\n",
            "  2724]\n",
            " [5348 7333 8535 8536 4982 7006 7006 5666 7518 6150 6729 6410 6404 6318\n",
            "  6420 2506 3359 2249 3086 7055 6346 5890 6625 6111 5919 6746 6093 2796\n",
            "  2724]\n",
            " [3165 4279 4982 4982 3018 4099 4103 3325 4403 3622 3916 3759 3734 3754\n",
            "  3776 1519 2044 1381 1871 4111 3711 3436 3871 3536 3482 3923 3510 1637\n",
            "  1578]\n",
            " [4467 6029 7006 7006 4099 5868 5827 4710 6249 5134 5614 5331 5328 5165\n",
            "  5289 2070 2734 1858 2573 5876 5292 4778 5511 5102 4949 5590 5033 2341\n",
            "  2287]\n",
            " [4434 6025 7006 7006 4103 5827 5822 4676 6224 5098 5576 5300 5309 5172\n",
            "  5275 2067 2746 1856 2556 5838 5250 4800 5470 5070 4914 5564 5013 2317\n",
            "  2280]\n",
            " [3593 4857 5666 5666 3325 4710 4676 3857 5047 4156 4534 4339 4307 4205\n",
            "  4291 1672 2229 1503 2074 4741 4281 3889 4483 4091 3982 4540 4085 1916\n",
            "  1843]\n",
            " [4753 6447 7518 7518 4403 6249 6224 5047 6712 5501 5993 5732 5724 5541\n",
            "  5669 2184 2936 1971 2717 6288 5670 5137 5919 5428 5282 6021 5429 2498\n",
            "  2449]\n",
            " [3900 5284 6150 6150 3622 5134 5098 4156 5501 4550 4933 4718 4702 4550\n",
            "  4669 1791 2405 1618 2237 5165 4673 4197 4864 4441 4341 4927 4443 2058\n",
            "  2002]\n",
            " [4269 5802 6729 6729 3916 5614 5576 4534 5993 4933 5408 5120 5123 4968\n",
            "  5099 1967 2614 1760 2448 5648 5083 4606 5296 4887 4721 5367 4850 2238\n",
            "  2181]\n",
            " [4044 5492 6410 6410 3759 5331 5300 4339 5732 4718 5120 4932 4901 4739\n",
            "  4853 1852 2496 1674 2306 5369 4848 4381 5075 4622 4509 5160 4653 2153\n",
            "  2098]\n",
            " [4037 5502 6404 6404 3734 5328 5309 4307 5724 4702 5123 4901 4913 4719\n",
            "  4838 1828 2476 1648 2281 5373 4844 4370 5059 4629 4498 5142 4651 2123\n",
            "  2083]\n",
            " [3975 5443 6318 6318 3754 5165 5172 4205 5541 4550 4968 4739 4719 4769\n",
            "  4797 1909 2557 1715 2339 5198 4668 4369 4895 4491 4359 4962 4460 2060\n",
            "  1987]\n",
            " [4049 5542 6420 6420 3776 5289 5275 4291 5669 4669 5099 4853 4838 4797\n",
            "  4896 1900 2536 1703 2345 5335 4795 4427 5002 4598 4456 5084 4592 2096\n",
            "  2034]\n",
            " [1618 2160 2506 2506 1519 2070 2067 1672 2184 1791 1967 1852 1828 1909\n",
            "  1900  856 1080  766 1022 2054 1838 1752 1915 1817 1770 1932 1705  842\n",
            "   810]\n",
            " [2127 2882 3359 3359 2044 2734 2746 2229 2936 2405 2614 2496 2476 2557\n",
            "  2536 1080 1441  980 1304 2744 2467 2342 2582 2385 2342 2607 2317 1106\n",
            "  1065]\n",
            " [1452 1931 2249 2249 1381 1858 1856 1503 1971 1618 1760 1674 1648 1715\n",
            "  1703  766  980  696  918 1843 1659 1568 1729 1625 1600 1744 1535  762\n",
            "   733]\n",
            " [2007 2660 3086 3086 1871 2573 2556 2074 2717 2237 2448 2306 2281 2339\n",
            "  2345 1022 1304  918 1243 2558 2299 2135 2392 2242 2190 2406 2130 1043\n",
            "   997]\n",
            " [4483 6072 7055 7055 4111 5876 5838 4741 6288 5165 5648 5369 5373 5198\n",
            "  5335 2054 2744 1843 2558 5928 5337 4830 5559 5114 4959 5645 5102 2345\n",
            "  2283]\n",
            " [4037 5443 6346 6346 3711 5292 5250 4281 5670 4673 5083 4848 4844 4668\n",
            "  4795 1838 2467 1659 2299 5337 4840 4333 5033 4590 4483 5101 4606 2133\n",
            "  2059]\n",
            " [3661 5076 5890 5890 3436 4778 4800 3889 5137 4197 4606 4381 4370 4369\n",
            "  4427 1752 2342 1568 2135 4830 4333 4142 4513 4187 4043 4611 4185 1924\n",
            "  1864]\n",
            " [4202 5669 6625 6625 3871 5511 5470 4483 5919 4864 5296 5075 5059 4895\n",
            "  5002 1915 2582 1729 2392 5559 5033 4513 5272 4785 4662 5342 4814 2235\n",
            "  2157]\n",
            " [3877 5267 6111 6111 3536 5102 5070 4091 5428 4441 4887 4622 4629 4491\n",
            "  4598 1817 2385 1625 2242 5114 4590 4187 4785 4478 4312 4860 4385 2039\n",
            "  2003]\n",
            " [3773 5075 5919 5919 3482 4949 4914 3982 5282 4341 4721 4509 4498 4359\n",
            "  4456 1770 2342 1600 2190 4959 4483 4043 4662 4312 4219 4728 4246 1992\n",
            "  1942]\n",
            " [4256 5767 6746 6746 3923 5590 5564 4540 6021 4927 5367 5160 5142 4962\n",
            "  5084 1932 2607 1744 2406 5645 5101 4611 5342 4860 4728 5448 4919 2260\n",
            "  2200]\n",
            " [3820 5228 6093 6093 3510 5033 5013 4085 5429 4443 4850 4653 4651 4460\n",
            "  4592 1705 2317 1535 2130 5102 4606 4185 4814 4385 4246 4919 4475 2027\n",
            "  1976]\n",
            " [1783 2381 2796 2796 1637 2341 2317 1916 2498 2058 2238 2153 2123 2060\n",
            "  2096  842 1106  762 1043 2345 2133 1924 2235 2039 1992 2260 2027  995\n",
            "   948]\n",
            " [1714 2321 2724 2724 1578 2287 2280 1843 2449 2002 2181 2098 2083 1987\n",
            "  2034  810 1065  733  997 2283 2059 1864 2157 2003 1942 2200 1976  948\n",
            "   949]]\n"
          ]
        }
      ],
      "source": [
        "# Chamada da função com o grafo carregado\n",
        "G_gt = gt.collection.ns[\"7th_graders\"]\n",
        "A_potencia_n, A_potencia_m = processar_grafo(G_gt)\n",
        "\n",
        "# Imprimir as matrizes resultantes\n",
        "print(\"Matriz A^n resultante:\")\n",
        "print(A_potencia_n)\n",
        "\n",
        "print(\"Matriz A^m resultante:\")\n",
        "print(A_potencia_m)"
      ]
    },
    {
      "cell_type": "markdown",
      "source": [
        "**Exercício 3.**  Para cada rede selecionada, calcular a matriz que representa a similaridade por co-citação e acoplamento bibliográfico. Mostrar: Qual o vértice com maior valor de força (strength) nessas\n",
        "duas matrizes?"
      ],
      "metadata": {
        "id": "3OKRtiRi2w2_"
      }
    },
    {
      "cell_type": "code",
      "source": [
        "def calcular_matrizes_similaridade_direcionado(gt_graph):\n",
        "    \"\"\"\n",
        "    Calcula as matrizes de similaridade por co-citação e acoplamento bibliográfico para um grafo direcionado,\n",
        "    e mostra o vértice com maior valor de força (strength) em cada matriz.\n",
        "\n",
        "    Parâmetros:\n",
        "    gt_graph (graph_tool.Graph): Grafo do Graph-tool onde os nós representam artigos e as arestas representam citações.\n",
        "\n",
        "    Retorna:\n",
        "    tuple: (matriz_co_citacao, matriz_acoplamento_bibliografico, vertice_max_forca_co_citacao, vertice_max_forca_acoplamento)\n",
        "    \"\"\"\n",
        "    # Criando um grafo vazio do NetworkX\n",
        "    G_nx = nx.DiGraph()\n",
        "\n",
        "    # Adicionando arestas do grafo do Graph-tool para o grafo do NetworkX\n",
        "    for edge in gt_graph.edges():\n",
        "        G_nx.add_edge(edge.source(), edge.target())\n",
        "\n",
        "    # Removendo auto-laços\n",
        "    G_nx.remove_edges_from(nx.selfloop_edges(G_nx))\n",
        "\n",
        "    # Mapeamento de rótulos para índices\n",
        "    node_to_index = {node: idx for idx, node in enumerate(G_nx.nodes())}\n",
        "    index_to_node = {idx: node for node, idx in node_to_index.items()}\n",
        "\n",
        "    # Co-citação: Criar uma matriz de co-citação\n",
        "    num_nodes = len(G_nx.nodes())\n",
        "    matriz_co_citacao = np.zeros((num_nodes, num_nodes), dtype=int)\n",
        "\n",
        "    # Preencher a matriz de co-citação\n",
        "    for node in G_nx.nodes():\n",
        "        node_idx = node_to_index[node]\n",
        "        successors = list(G_nx.successors(node))  # Obter sucessores\n",
        "        for i in range(len(successors)):\n",
        "            for j in range(i + 1, len(successors)):\n",
        "                ni, nj = successors[i], successors[j]\n",
        "                ni_idx, nj_idx = node_to_index[ni], node_to_index[nj]\n",
        "                matriz_co_citacao[ni_idx][nj_idx] += 1\n",
        "                matriz_co_citacao[nj_idx][ni_idx] += 1  # Grafo não direcionado para co-citação\n",
        "\n",
        "    # Acoplamento Bibliográfico: Criar uma matriz de acoplamento bibliográfico\n",
        "    acoplamento_bibliografico = nx.DiGraph()\n",
        "    acoplamento_bibliografico.add_nodes_from(G_nx.nodes())\n",
        "\n",
        "    for node in G_nx.nodes():\n",
        "        successors = list(G_nx.successors(node))\n",
        "        for i in range(len(successors)):\n",
        "            for j in range(i + 1, len(successors)):\n",
        "                ni, nj = successors[i], successors[j]\n",
        "                if not acoplamento_bibliografico.has_edge(ni, nj):\n",
        "                    acoplamento_bibliografico.add_edge(ni, nj)\n",
        "\n",
        "    matriz_acoplamento_bibliografico = nx.to_numpy_array(acoplamento_bibliografico, dtype=int)\n",
        "\n",
        "    # Encontrar o vértice com maior valor de força (strength) em cada matriz\n",
        "    forca_co_citacao = np.sum(matriz_co_citacao, axis=1)\n",
        "    forca_acoplamento_bibliografico = np.sum(matriz_acoplamento_bibliografico, axis=1)\n",
        "\n",
        "    vertice_max_forca_co_citacao_idx = np.argmax(forca_co_citacao)\n",
        "    vertice_max_forca_acoplamento_idx = np.argmax(forca_acoplamento_bibliografico)\n",
        "\n",
        "    # Convertendo índices de volta para rótulos de nó\n",
        "    vertice_max_forca_co_citacao = index_to_node[vertice_max_forca_co_citacao_idx]\n",
        "    vertice_max_forca_acoplamento = index_to_node[vertice_max_forca_acoplamento_idx]\n",
        "\n",
        "    print(\"Matriz de Co-Citação:\")\n",
        "    print(matriz_co_citacao)\n",
        "    print(f\"Ordem da matriz de co-citação: {matriz_co_citacao.shape}\")\n",
        "    print(f\"Vértice com maior força na matriz de co-citação: {vertice_max_forca_co_citacao}\")\n",
        "\n",
        "    print(\"Matriz de Acoplamento Bibliográfico:\")\n",
        "    print(matriz_acoplamento_bibliografico)\n",
        "    print(f\"Ordem da matriz de acoplamento bibliográfico: {matriz_acoplamento_bibliografico.shape}\")\n",
        "    print(f\"Vértice com maior força na matriz de acoplamento bibliográfico: {vertice_max_forca_acoplamento}\")\n",
        "\n",
        "    return (matriz_co_citacao, matriz_acoplamento_bibliografico, vertice_max_forca_co_citacao, vertice_max_forca_acoplamento)"
      ],
      "metadata": {
        "id": "moK1xwtk24KO"
      },
      "execution_count": 35,
      "outputs": []
    },
    {
      "cell_type": "markdown",
      "source": [
        "#### **Rede** `fresh_webs`"
      ],
      "metadata": {
        "id": "I8JCKiYLNJaa"
      }
    },
    {
      "cell_type": "code",
      "source": [
        "# Exemplo de uso\n",
        "G_gt = gt.collection.ns[\"fresh_webs/AkatoreA\"]  # Substitua pelo seu grafo do Graph-tool\n",
        "resultados = calcular_matrizes_similaridade_direcionado(G_gt)"
      ],
      "metadata": {
        "id": "0prO-b7BNIxU",
        "colab": {
          "base_uri": "https://localhost:8080/"
        },
        "outputId": "d8c1af8f-0e0d-4669-99e1-8c877750220f"
      },
      "execution_count": 42,
      "outputs": [
        {
          "output_type": "stream",
          "name": "stdout",
          "text": [
            "Matriz de Co-Citação:\n",
            "[[0 0 0 ... 0 0 0]\n",
            " [0 0 2 ... 0 0 0]\n",
            " [0 2 0 ... 0 0 0]\n",
            " ...\n",
            " [0 0 0 ... 0 0 0]\n",
            " [0 0 0 ... 0 0 0]\n",
            " [0 0 0 ... 0 0 0]]\n",
            "Ordem da matriz de co-citação: (84, 84)\n",
            "Vértice com maior força na matriz de co-citação: 66\n",
            "Matriz de Acoplamento Bibliográfico:\n",
            "[[0 0 0 ... 0 0 0]\n",
            " [0 0 1 ... 0 0 0]\n",
            " [0 0 0 ... 0 0 0]\n",
            " ...\n",
            " [0 0 0 ... 0 0 0]\n",
            " [0 0 0 ... 0 0 0]\n",
            " [0 0 0 ... 0 0 0]]\n",
            "Ordem da matriz de acoplamento bibliográfico: (84, 84)\n",
            "Vértice com maior força na matriz de acoplamento bibliográfico: 45\n"
          ]
        }
      ]
    },
    {
      "cell_type": "markdown",
      "source": [
        "#### **Rede** `bitcoin_alpha`"
      ],
      "metadata": {
        "id": "ZptqZ-gcNsL9"
      }
    },
    {
      "cell_type": "code",
      "source": [
        "G_gt = gt.collection.ns[\"bitcoin_alpha\"]\n",
        "resultados = calcular_matrizes_similaridade_direcionado(G_gt)"
      ],
      "metadata": {
        "id": "m1zx7TTeNs0F",
        "colab": {
          "base_uri": "https://localhost:8080/"
        },
        "outputId": "0952cbe5-ed70-4e34-b64c-5e71131558a1"
      },
      "execution_count": 41,
      "outputs": [
        {
          "output_type": "stream",
          "name": "stdout",
          "text": [
            "Matriz de Co-Citação:\n",
            "[[0 0 0 ... 0 0 0]\n",
            " [0 0 4 ... 0 0 0]\n",
            " [0 4 0 ... 0 0 0]\n",
            " ...\n",
            " [0 0 0 ... 0 0 0]\n",
            " [0 0 0 ... 0 0 0]\n",
            " [0 0 0 ... 0 0 0]]\n",
            "Ordem da matriz de co-citação: (3783, 3783)\n",
            "Vértice com maior força na matriz de co-citação: 43\n",
            "Matriz de Acoplamento Bibliográfico:\n",
            "[[0 0 0 ... 0 0 0]\n",
            " [0 0 1 ... 0 0 0]\n",
            " [0 0 0 ... 0 0 0]\n",
            " ...\n",
            " [0 0 0 ... 0 0 0]\n",
            " [0 0 0 ... 0 0 0]\n",
            " [0 0 0 ... 0 0 0]]\n",
            "Ordem da matriz de acoplamento bibliográfico: (3783, 3783)\n",
            "Vértice com maior força na matriz de acoplamento bibliográfico: 43\n"
          ]
        }
      ]
    },
    {
      "cell_type": "markdown",
      "source": [
        "#### **Rede** `7th_graders`"
      ],
      "metadata": {
        "id": "xa1aRbGUN5qy"
      }
    },
    {
      "cell_type": "code",
      "source": [
        "G_gt = gt.collection.ns[\"7th_graders\"]\n",
        "resultados = calcular_matrizes_similaridade_direcionado(G_gt)"
      ],
      "metadata": {
        "id": "PEH71NzBODZx",
        "colab": {
          "base_uri": "https://localhost:8080/"
        },
        "outputId": "f9199708-d6f2-4900-8b1f-88ce3f4849e8"
      },
      "execution_count": 40,
      "outputs": [
        {
          "output_type": "stream",
          "name": "stdout",
          "text": [
            "Matriz de Co-Citação:\n",
            "[[ 0  5  6  9  6 10  9  6  9  6  7  6  4  8  7  6  5  5  6  8  7  0  7  5\n",
            "   6  6  3  3  3]\n",
            " [ 5  0  5  5  3  6  6  4  5  5  5  3  4  6  6  5  3  4  5  5  4  0  3  3\n",
            "   3  2  2  2  2]\n",
            " [ 6  5  0  9  6  7  8  7  6  6  5  6  6  9  7  5  7  5  4  6  5  6  6  4\n",
            "   5  5  5  3  3]\n",
            " [ 9  5  9  0  7 12 12  7 12  9  9  9  7 12 11  5  5  5  5 10  8  3  9  4\n",
            "   6  7  4  3  3]\n",
            " [ 6  3  6  7  0  7  6  7  7  6  5  8  5  8  7  4  5  4  4  6  5  2  6  4\n",
            "   6  7  4  3  3]\n",
            " [10  6  7 12  7  0 18 11 18 15 16 15 13 11 11  6  5  5  6 15 15  0 14  9\n",
            "  13 11  5  6  7]\n",
            " [ 9  6  8 12  6 18  0 10 17 14 15 14 14 11 11  6  5  5  5 15 14  1 14  8\n",
            "  12 11  6  6  8]\n",
            " [ 6  4  7  7  7 11 10  0 10 11 11 13 10 10  8  5  6  4  4 10 10  2 11  7\n",
            "   9 10  5  6  5]\n",
            " [ 9  5  6 12  7 18 17 10  0 15 15 15 13 11 11  5  5  5  6 14 15  0 14  8\n",
            "  12 11  5  5  7]\n",
            " [ 6  5  6  9  6 15 14 11 15  0 14 15 14 10 11  4  5  4  6 14 15  1 13  7\n",
            "  12 11  5  5  6]\n",
            " [ 7  5  5  9  5 16 15 11 15 14  0 13 13 10 10  4  3  3  5 13 14  0 13  7\n",
            "  10 10  4  5  6]\n",
            " [ 6  3  6  9  8 15 14 13 15 15 13  0 14 11 10  4  6  4  4 13 13  2 14  9\n",
            "  13 14  7  6  7]\n",
            " [ 4  4  6  7  5 13 14 10 13 14 13 14  0 10  9  3  5  3  4 13 13  2 14  7\n",
            "  11 11  6  5  6]\n",
            " [ 8  6  9 12  8 11 11 10 11 10 10 11 10  0 13  6  6  5  6 10  9  3 12  5\n",
            "   7  9  5  3  4]\n",
            " [ 7  6  7 11  7 11 11  8 11 11 10 10  9 13  0  6  5  5  6 10 10  2 10  3\n",
            "   6  8  4  2  3]\n",
            " [ 6  5  5  5  4  6  6  5  5  4  4  4  3  6  6  0  5  6  5  5  4  0  4  3\n",
            "   4  4  2  3  3]\n",
            " [ 5  3  7  5  5  5  5  6  5  5  3  6  5  6  5  5  0  6  4  5  5  3  6  4\n",
            "   5  6  4  3  3]\n",
            " [ 5  4  5  5  4  5  5  4  5  4  3  4  3  5  5  6  6  0  5  4  4  1  4  3\n",
            "   4  4  2  3  3]\n",
            " [ 6  5  4  5  4  6  5  4  6  6  5  4  4  6  6  5  4  5  0  6  6  0  5  3\n",
            "   4  4  2  2  2]\n",
            " [ 8  5  6 10  6 15 15 10 14 14 13 13 13 10 10  5  5  4  6  0 14  1 13  6\n",
            "  11 11  6  5  6]\n",
            " [ 7  4  5  8  5 15 14 10 15 15 14 13 13  9 10  4  5  4  6 14  0  1 14  7\n",
            "  12 10  4  5  5]\n",
            " [ 0  0  6  3  2  0  1  2  0  1  0  2  2  3  2  0  3  1  0  1  1  0  2  1\n",
            "   1  2  4  1  1]\n",
            " [ 7  3  6  9  6 14 14 11 14 13 13 14 14 12 10  4  6  4  5 13 14  2  0  8\n",
            "  11 12  6  6  6]\n",
            " [ 5  3  4  4  4  9  8  7  8  7  7  9  7  5  3  3  4  3  3  6  7  1  8  0\n",
            "   9  7  5  5  4]\n",
            " [ 6  3  5  6  6 13 12  9 12 12 10 13 11  7  6  4  5  4  4 11 12  1 11  9\n",
            "   0 10  5  6  6]\n",
            " [ 6  2  5  7  7 11 11 10 11 11 10 14 11  9  8  4  6  4  4 11 10  2 12  7\n",
            "  10  0  6  5  6]\n",
            " [ 3  2  5  4  4  5  6  5  5  5  4  7  6  5  4  2  4  2  2  6  4  4  6  5\n",
            "   5  6  0  4  5]\n",
            " [ 3  2  3  3  3  6  6  6  5  5  5  6  5  3  2  3  3  3  2  5  5  1  6  5\n",
            "   6  5  4  0  5]\n",
            " [ 3  2  3  3  3  7  8  5  7  6  6  7  6  4  3  3  3  3  2  6  5  1  6  4\n",
            "   6  6  5  5  0]]\n",
            "Ordem da matriz de co-citação: (29, 29)\n",
            "Vértice com maior força na matriz de co-citação: 13\n",
            "Matriz de Acoplamento Bibliográfico:\n",
            "[[0 1 1 1 1 1 1 1 1 1 1 1 1 1 1 1 1 1 1 1 1 0 1 1 1 1 1 1 1]\n",
            " [0 0 1 1 1 1 1 1 1 1 1 1 1 1 1 1 0 1 1 1 1 0 1 1 1 1 1 1 1]\n",
            " [0 0 0 1 1 1 1 1 1 1 1 1 1 1 1 1 0 0 1 1 1 1 1 1 1 1 1 1 1]\n",
            " [0 0 0 0 1 1 1 1 1 1 1 1 1 1 1 1 0 0 0 1 1 0 1 1 1 1 1 1 1]\n",
            " [0 0 1 1 0 1 1 1 1 1 1 1 1 1 1 0 0 0 0 1 1 0 1 1 1 1 1 1 1]\n",
            " [0 0 0 0 0 0 1 1 1 1 1 1 1 1 1 1 0 0 0 1 1 0 1 1 1 1 0 1 1]\n",
            " [0 0 0 0 0 0 0 1 1 1 1 1 1 1 1 1 0 0 0 1 1 0 1 1 1 1 0 1 1]\n",
            " [0 0 0 0 0 0 0 0 1 1 1 1 1 1 1 1 0 0 0 1 1 0 1 1 1 1 0 1 1]\n",
            " [0 0 0 0 0 0 0 0 0 1 1 1 1 1 1 0 0 0 0 0 1 0 1 1 1 1 0 0 1]\n",
            " [0 0 0 0 0 1 1 1 1 0 1 1 1 1 1 0 0 0 0 1 0 0 1 1 1 1 0 0 1]\n",
            " [0 0 0 0 0 1 1 1 1 0 0 1 1 1 1 1 0 0 0 1 0 0 1 1 1 1 0 0 1]\n",
            " [0 0 0 0 0 1 1 1 1 0 0 0 1 1 1 0 0 0 0 1 0 0 0 1 1 1 0 0 0]\n",
            " [0 0 0 0 0 1 1 1 1 0 0 0 0 1 1 0 0 0 0 1 0 0 0 1 1 1 0 0 0]\n",
            " [0 1 1 1 1 1 1 1 1 1 1 1 1 0 1 1 1 1 1 1 1 1 1 1 1 1 1 1 1]\n",
            " [0 1 1 1 1 1 1 1 1 1 1 1 1 1 0 1 0 1 1 1 1 1 1 1 1 1 1 1 1]\n",
            " [0 1 1 1 1 1 1 1 1 1 1 1 1 0 1 0 1 1 1 1 1 0 1 1 1 1 1 1 1]\n",
            " [0 1 1 1 1 1 1 1 1 1 1 1 1 0 1 0 0 1 1 1 1 1 1 1 1 1 1 1 1]\n",
            " [0 0 1 1 1 1 1 1 1 1 1 1 1 0 0 0 0 0 1 1 1 1 1 1 1 1 1 1 1]\n",
            " [0 0 0 1 1 1 1 1 1 1 1 1 1 0 0 0 0 0 0 1 1 0 1 1 1 1 1 1 1]\n",
            " [0 0 0 0 0 0 1 1 1 1 1 1 1 0 0 0 0 0 0 0 1 0 1 1 1 1 0 1 1]\n",
            " [0 0 0 0 0 1 1 1 1 1 1 1 1 0 0 0 0 0 0 1 0 0 1 1 1 1 0 0 1]\n",
            " [0 0 1 1 1 0 1 1 0 1 0 1 1 0 0 0 0 0 0 1 1 0 1 1 1 1 1 1 1]\n",
            " [0 0 0 0 0 1 1 1 1 0 0 1 1 0 0 0 0 0 0 1 0 0 0 1 1 1 0 0 1]\n",
            " [0 0 0 0 0 0 0 0 0 0 0 0 0 0 0 0 0 0 0 0 0 0 0 0 1 0 0 0 0]\n",
            " [0 0 0 0 0 1 1 1 1 0 0 0 0 0 0 0 0 0 0 1 0 0 0 0 0 1 0 0 0]\n",
            " [0 0 0 0 0 1 1 1 1 0 0 1 1 0 0 0 0 0 0 1 0 0 0 1 1 0 0 0 1]\n",
            " [0 0 0 0 0 1 1 1 1 1 1 1 1 0 0 0 0 0 0 1 1 0 1 1 1 1 0 1 1]\n",
            " [0 0 0 0 0 0 0 0 1 1 1 1 1 0 0 0 0 0 0 0 1 0 1 1 1 1 0 0 1]\n",
            " [0 0 0 0 0 0 0 0 0 0 0 1 1 0 0 0 0 0 0 0 0 0 0 1 1 1 0 0 0]]\n",
            "Ordem da matriz de acoplamento bibliográfico: (29, 29)\n",
            "Vértice com maior força na matriz de acoplamento bibliográfico: 0\n"
          ]
        }
      ]
    },
    {
      "cell_type": "markdown",
      "source": [
        "**Exercício 4.** Na rede acíclica, verifique se existem ciclos"
      ],
      "metadata": {
        "id": "MV_z_Q-Wwr7W"
      }
    },
    {
      "cell_type": "code",
      "source": [
        "def grapho_nx(gt_graph):\n",
        "    \"\"\"\n",
        "    Converte um grafo do Graph-tool para NetworkX.\n",
        "\n",
        "    Parâmetros:\n",
        "    gt_graph (GraphTool Graph): Grafo do Graph-tool.\n",
        "\n",
        "    Retorna:\n",
        "    G_nx (networkx.DiGraph): Grafo convertido para NetworkX.\n",
        "    \"\"\"\n",
        "    # Criando um grafo direcionado do NetworkX\n",
        "    G_nx = nx.DiGraph()\n",
        "\n",
        "    # Adicionando arestas do grafo do Graph-tool para o grafo do NetworkX\n",
        "    for edge in gt_graph.edges():\n",
        "        G_nx.add_edge(edge.source(), edge.target())\n",
        "\n",
        "    # Convertendo rótulos de nós para inteiros\n",
        "    mapeamento = {node: idx for idx, node in enumerate(G_nx.nodes())}\n",
        "    G_nx = nx.relabel_nodes(G_nx, mapeamento)\n",
        "\n",
        "    return G_nx\n",
        "\n",
        "def plotar_grafo(G_nx):\n",
        "    \"\"\"\n",
        "    Plota o grafo utilizando matplotlib.\n",
        "\n",
        "    Parâmetros:\n",
        "    G_nx (networkx.DiGraph): Grafo do NetworkX a ser plotado.\n",
        "    \"\"\"\n",
        "    pos = nx.spring_layout(G_nx)  # Layout para o grafo\n",
        "    plt.figure(figsize=(5, 5))\n",
        "\n",
        "    # Plotando o grafo com os ajustes solicitados\n",
        "    nx.draw(\n",
        "        G_nx, pos,\n",
        "        with_labels=False,  # Sem rótulos\n",
        "        node_color='c',  # Nós na cor azul escuro\n",
        "        edge_color='black',  # Arestas na cor preta\n",
        "        node_size=15,\n",
        "        width=0.7,\n",
        "        font_size=5,\n",
        "        font_weight='bold',\n",
        "        arrows=True\n",
        "    )\n",
        "\n",
        "    plt.title(\"Grafo Direcionado\")\n",
        "    plt.show()\n",
        "\n",
        "def encontrar_ciclos(G_nx):\n",
        "    \"\"\"\n",
        "    Encontra e imprime ciclos no grafo direcionado usando NetworkX.\n",
        "\n",
        "    Parâmetros:\n",
        "    G_nx (networkx.DiGraph): Grafo do NetworkX para encontrar ciclos.\n",
        "\n",
        "    Retorna:\n",
        "    None\n",
        "    \"\"\"\n",
        "    try:\n",
        "        ciclo = nx.find_cycle(G_nx, orientation='original')\n",
        "        print(f'Ciclo encontrado: {ciclo}')\n",
        "    except nx.NetworkXNoCycle:\n",
        "        print('Não há ciclos no grafo.')\n",
        "\n",
        "# Carrega o grafo do Graph-tool\n",
        "G_gt = gt.collection.ns[\"fresh_webs/AkatoreA\"]\n",
        "\n",
        "# Converte o grafo para NetworkX\n",
        "G_nx = grapho_nx(G_gt)\n",
        "\n",
        "# Plota o grafo\n",
        "plotar_grafo(G_nx)\n",
        "\n",
        "# Encontra e imprime ciclos no grafo\n",
        "encontrar_ciclos(G_nx)\n"
      ],
      "metadata": {
        "id": "_7hpDkl15nVl",
        "colab": {
          "base_uri": "https://localhost:8080/",
          "height": 576
        },
        "outputId": "50a1d1b8-c723-405c-af58-02e05b434734"
      },
      "execution_count": 48,
      "outputs": [
        {
          "output_type": "display_data",
          "data": {
            "text/plain": [
              "<Figure size 500x500 with 1 Axes>"
            ],
            "image/png": "[encoded data removed]"
          },
          "metadata": {}
        },
        {
          "output_type": "stream",
          "name": "stdout",
          "text": [
            "Não há ciclos no grafo.\n"
          ]
        }
      ]
    },
    {
      "cell_type": "markdown",
      "source": [
        "**Exercício 5.** Considere uma das definições da medida de\n",
        "reciprocidade definida em en.wikipedia.org/wiki/Reciprocity_(network_science).\n",
        "Nas redes com ciclos, calcule o valor da reciprocidade. Compare estes valores, mencionando possíveis razões para uma rede ser mais recíproca que a outra."
      ],
      "metadata": {
        "id": "WypwZfj727Sl"
      }
    },
    {
      "cell_type": "code",
      "execution_count": 49,
      "metadata": {
        "id": "5xUCjtlyOJnz",
        "colab": {
          "base_uri": "https://localhost:8080/"
        },
        "outputId": "968aa38a-2284-4c8e-9e2e-6e6e6dbb1ef6"
      },
      "outputs": [
        {
          "output_type": "stream",
          "name": "stdout",
          "text": [
            "Reciprocidade da rede bitcoin_alpha: 0.83\n",
            "Reciprocidade da rede 7th_graders: 0.67\n"
          ]
        }
      ],
      "source": [
        "def reciprocity_garlaschelli_loffredo(G_gt):\n",
        "    \"\"\"\n",
        "    Calcula a reciprocidade de Garlaschelli e Loffredo para um grafo direcionado.\n",
        "\n",
        "    Parameters:\n",
        "    G_gt (Graph): O grafo direcionado do graph-tool.\n",
        "\n",
        "    Returns:\n",
        "    float: A reciprocidade calculada.\n",
        "    \"\"\"\n",
        "    # Criar um grafo vazio do NetworkX\n",
        "    G_nx = nx.DiGraph()\n",
        "\n",
        "    # Adicionar arestas do grafo do Graph-tool para o grafo do NetworkX\n",
        "    for edge in G_gt.edges():\n",
        "        G_nx.add_edge(edge.source(), edge.target())\n",
        "\n",
        "    # Remover auto-laços\n",
        "    G_nx.remove_edges_from(nx.selfloop_edges(G_nx))\n",
        "\n",
        "    # Número de arestas reciprocamente conectadas\n",
        "    reciprocal_edges = 0\n",
        "    total_edges = G_nx.number_of_edges()\n",
        "\n",
        "    for u, v in G_nx.edges():\n",
        "        if G_nx.has_edge(v, u):  # Checa se existe a aresta reversa\n",
        "            reciprocal_edges += 1\n",
        "\n",
        "    # A reciprocidade é dada pela fórmula:\n",
        "    if total_edges == 0:\n",
        "        return 0\n",
        "    return reciprocal_edges / total_edges\n",
        "\n",
        "def calculate_reciprocities(graphs):\n",
        "    \"\"\"\n",
        "    Calcula e exibe a reciprocidade para uma lista de grafos.\n",
        "\n",
        "    Parameters:\n",
        "    graphs (list of Graph): Lista de grafos direcionados do graph-tool.\n",
        "    \"\"\"\n",
        "    for name, G_gt in graphs:\n",
        "        # Calcular a reciprocidade\n",
        "        reciprocity = reciprocity_garlaschelli_loffredo(G_gt)\n",
        "        # Exibir o resultado\n",
        "        print(f\"Reciprocidade da rede {name}: {reciprocity:.2f}\")\n",
        "\n",
        "# Lista de redes a serem analisadas (substitua com seus grafos reais)\n",
        "graphs = [\n",
        "    (\"bitcoin_alpha\", collection.ns[\"bitcoin_alpha\"]),\n",
        "    (\"7th_graders\", collection.ns[\"7th_graders\"]),  # Exemplo de outra rede\n",
        "    # Adicione mais grafos conforme necessário\n",
        "]\n",
        "\n",
        "# Calcular e exibir a reciprocidade para cada rede\n",
        "calculate_reciprocities(graphs)\n"
      ]
    },
    {
      "cell_type": "markdown",
      "source": [
        "# Comparação da Reciprocidade das Redes\n",
        "\n",
        "A reciprocidade é uma medida que indica a fração de pares de nós em um grafo direcionado que estão conectados por arestas em ambas as direções. Os valores de reciprocidade para as redes analisadas são:\n",
        "\n",
        "- **Rede `bitcoin_alpha`**: 0.83\n",
        "- **Rede `7th_graders`**: 0.67\n",
        "\n",
        "A reciprocidade é dada pela fórmula:\n",
        "\n",
        "$$R = \\frac{E_{\\text{recíprocas}}}{E_{\\text{total}}}$$\n",
        "\n",
        "onde $E_{\\text{recíprocas}}$ é o número de pares de arestas recíprocas e $E_{\\text{total}}$ é o número total de arestas no grafo.\n",
        "\n",
        "## Comparação e Possíveis Razões\n",
        "\n",
        "1. **Significado dos Valores:**\n",
        "   - A reciprocidade da rede `bitcoin_alpha` é 0.83, indicando que 83% das arestas formam pares recíprocos.\n",
        "   - A reciprocidade da rede `7th_graders` é 0.67, indicando que 67% das arestas são reciprocamente conectadas.\n",
        "\n",
        "2. **Razões para Diferenças na Reciprocidade:**\n",
        "   - **Tipo de Rede:** A rede `bitcoin_alpha` pode representar interações mais frequentemente recíprocas, enquanto a `7th_graders` pode ter interações mais unilaterais.\n",
        "   - **Estrutura da Rede:** Redes mais densas e interconectadas tendem a ter maior reciprocidade.\n",
        "   - **Tamanho e Complexidade:** Redes maiores e mais complexas podem ter menor reciprocidade devido ao aumento das arestas unidirecionais.\n",
        "   - **Natureza das Conexões:** A natureza das interações pode influenciar a reciprocidade, com algumas redes mostrando mais reciprocidade devido a conexões mutuamente benéficas.\n",
        "   - **Contexto e Aplicação:** O contexto das redes pode afetar a reciprocidade, como em redes sociais onde interações recíprocas são comuns.\n"
      ],
      "metadata": {
        "id": "5tbuS-Pld576"
      }
    },
    {
      "cell_type": "markdown",
      "metadata": {
        "id": "KoOlUC3Mb-ny"
      },
      "source": [
        "### Definindo features\n",
        "\n",
        "Vamos criar uma função que calcule todas as features que desejamos utilizar como atributos em nossos modelos."
      ]
    },
    {
      "cell_type": "markdown",
      "metadata": {
        "id": "3jN5kkHXxTf9"
      },
      "source": [
        "1. **k1 (Primeiro momento do grau):** É a média dos graus de todos os nós em uma rede. Em outras palavras, é a média do número de conexões que cada nó possui.\n",
        "\n",
        "2. **k2 (Segundo momento do grau):** É a média dos quadrados dos graus de todos os nós em uma rede. Isso fornece informações sobre a dispersão dos graus na rede.\n",
        "\n",
        "3. **variance (Variância):** É uma medida de quão dispersos estão os graus dos nós em uma rede. Quanto maior a variância, mais heterogênea é a distribuição dos graus.\n",
        "\n",
        "4. **av_cl (Average Clustering):** É a média dos coeficientes de agrupamento de todos os nós na rede. O coeficiente de agrupamento de um nó indica a probabilidade de que os vizinhos desse nó também sejam conectados entre si.\n",
        "\n",
        "5. **l (Average shortest path length):** É a média das distâncias mais curtas entre todos os pares de nós na rede. Isso fornece uma medida de quão facilmente a informação ou influência pode se espalhar pela rede.\n",
        "\n",
        "6. **r (Grau do coeficiente de assortatividade):** É uma medida de quão bem os nós com graus semelhantes estão conectados entre si. Um valor positivo indica que nós com graus altos tendem a se conectar com outros nós com graus altos, e nós com graus baixos tendem a se conectar com outros nós com graus baixos.\n",
        "\n",
        "7. **H (Entropia de Shannon):** É uma medida da incerteza na distribuição dos graus dos nós em uma rede. Uma rede com uma distribuição de graus uniforme terá uma entropia maior do que uma rede com uma distribuição mais desigual.\n",
        "\n",
        "8. **av_B (Centralidade média):** É a média das centralidades de todos os nós na rede. A centralidade de um nó mede sua importância na rede com base em diferentes critérios, como proximidade, intermediação ou centralidade de grau.\n",
        "\n",
        "9. **av_knn (Média do grau dos vizinhos mais próximos):** É a média dos graus dos vizinhos mais próximos de todos os nós na rede. Isso fornece informações sobre o ambiente local de cada nó na rede."
      ]
    },
    {
      "cell_type": "markdown",
      "metadata": {
        "id": "aUsVWmBHxjyn"
      },
      "source": [
        "1. **Primeiro Momento do Grau** ($k_1$):\n",
        "   $$k_1 = \\frac{1}{N} \\sum_{i=1}^{N} k_i$$\n",
        "\n",
        "2. **Segundo Momento do Grau** ( $k_2$):\n",
        "   $$k_2 = \\frac{1}{N} \\sum_{i=1}^{N} k_i^2$$\n",
        "\n",
        "3. **Variância do Grau** ($\\text{variance}$):\n",
        "   $$\\text{variance} = \\frac{1}{N} \\sum_{i=1}^{N} (k_i - k_1)^2$$\n",
        "\n",
        "4. **Average Clustering** ($\\text{av_cl})$:\n",
        "   $$\\text{av_cl} = \\frac{1}{N} \\sum_{i=1}^{N} C_i$$\n",
        "   onde $C_i = \\frac{2 E_i}{k_i (k_i - 1)}$ é o coeficiente de agrupamento para o vértice $i$.\n",
        "\n",
        "**Medidas Globais**\n",
        "\n",
        "5. **Average Shortest Path Length** ($l$):\n",
        "   $$l = \\frac{1}{N(N-1)} \\sum_{i \\neq j} d(i, j)$$\n",
        "   onde $d(i, j)$ é a distância entre os vértices $i$ e $j$.\n",
        "\n",
        "6. **Coeficiente de Assortatividade** ($r$):\n",
        "   $$r = \\frac{\\sum_{jk} jk(e_{jk} - q_j q_k)}{\\sigma_q^2}$$\n",
        "\n",
        "7. **Entropia de Shannon** ($\\mathcal{H}$):\n",
        " $$ \\mathcal{H} = -\\sum_k P(k) \\log P(k)$$\n",
        "\n",
        "8. **Centralidade Média**  ($\\text{av_B}$):\n",
        "   $$\\text{av_B} = \\frac{1}{N} \\sum_{i=1}^{N} B_i$$\n",
        "\n",
        "9. **Média do Grau dos Vizinhos mais Próximos** ($\\text{av_knn}$):\n",
        "   $$\\text{av_knn} = \\frac{1}{N} \\sum_{i=1}^{N} k_{nn,i}$$\n",
        "   onde $$k_{nn, i} = \\frac{1}{k_i} \\sum_{j \\in V(i)} k_j$$ é a média do grau dos vizinhos de $i$."
      ]
    },
    {
      "cell_type": "code",
      "execution_count": null,
      "metadata": {
        "id": "NXjz3-5vb-FD"
      },
      "outputs": [],
      "source": [
        "def degree_distribution(G):\n",
        "    vk = dict(G.degree())\n",
        "    vk = list(vk.values())  # Pegamos apenas os valores dos graus\n",
        "    vk = np.array(vk)\n",
        "    maxk = np.max(vk)\n",
        "    mink = np.min(vk)\n",
        "    kvalues = np.arange(0, maxk + 1)  # Valores possíveis de k\n",
        "\n",
        "    Pk = np.zeros(maxk + 1)  # P(k)\n",
        "    for k in vk:\n",
        "        Pk[k] += 1\n",
        "    Pk = Pk / sum(Pk)  # A soma dos elementos de P(k) deve ser igual a um\n",
        "\n",
        "    return kvalues, Pk\n",
        "\n",
        "def measures(G):\n",
        "    def momment_of_degree_distribution(G, m):\n",
        "        M = 0\n",
        "        N = len(G)\n",
        "        for i in G.nodes:\n",
        "            M += G.degree(i) ** m\n",
        "        M /= N\n",
        "        return M\n",
        "\n",
        "    def shannon_entropy(G):\n",
        "        k, Pk = degree_distribution(G)\n",
        "        H = 0\n",
        "        for p in Pk:\n",
        "            if p > 0:\n",
        "                H -= p * math.log(p, 2)\n",
        "        return H\n",
        "\n",
        "    knn = []\n",
        "    for i in G.nodes():\n",
        "        aux = nx.average_neighbor_degree(G, nodes=[i])\n",
        "        knn.append(float(aux[i]))\n",
        "    knn = np.array(knn)\n",
        "    av_knn = np.mean(knn)\n",
        "\n",
        "    N = len(G)\n",
        "    M = G.number_of_edges()\n",
        "    vk = dict(G.degree())\n",
        "    vk = list(vk.values())\n",
        "    vk = np.array(vk)\n",
        "    k1 = momment_of_degree_distribution(G, 1)\n",
        "    k2 = momment_of_degree_distribution(G, 2)\n",
        "    variance = momment_of_degree_distribution(G, 2) - momment_of_degree_distribution(G, 1) ** 2\n",
        "    av_cl = nx.average_clustering(G)\n",
        "    l = nx.average_shortest_path_length(G)\n",
        "    r = nx.degree_assortativity_coefficient(G)\n",
        "    H = shannon_entropy(G)\n",
        "    B = dict(nx.betweenness_centrality(G))\n",
        "    B = list(B.values())\n",
        "    av_B = np.mean(B)\n",
        "\n",
        "    return k1, k2, variance, av_cl, l, r, H, av_B, av_knn"
      ]
    },
    {
      "cell_type": "markdown",
      "metadata": {
        "id": "NxPGFSpBcF8E"
      },
      "source": [
        "Uma vez criada a função com as features que desejamos utilizar, bastar chamarmos a função para que possamos calcular as features referente a rede selecionada."
      ]
    },
    {
      "cell_type": "markdown",
      "metadata": {
        "id": "CIZ1Y1PKcJ2D"
      },
      "source": [
        "### Distribuição do grau"
      ]
    },
    {
      "cell_type": "code",
      "execution_count": null,
      "metadata": {
        "id": "woAplriKcOOF"
      },
      "outputs": [],
      "source": [
        "ks, Pk = degree_distribution(G_nx)\n",
        "\n",
        "plt.figure(figsize=(7, 4))\n",
        "\n",
        "# Primeiro gráfico (log-log)\n",
        "plt.subplot(1, 2, 1)\n",
        "plt.xscale(\"log\")\n",
        "plt.yscale(\"log\")\n",
        "plt.plot(ks, Pk, \"ro\")\n",
        "plt.xlabel(\"k\", fontsize=10)\n",
        "plt.ylabel(\"P(k)\", fontsize=10)\n",
        "plt.title(\"Distribuição do Grau (log-log)\", fontsize=10)\n",
        "\n",
        "# Segundo gráfico (linear)\n",
        "plt.subplot(1, 2, 2)\n",
        "plt.plot(ks, Pk, \"ro\")\n",
        "plt.xlabel(\"k\", fontsize=10)\n",
        "plt.ylabel(\"P(k)\", fontsize=20)\n",
        "plt.title(\"Distribuição do Grau\", fontsize=10)\n",
        "\n",
        "plt.tight_layout()\n",
        "plt.show()"
      ]
    },
    {
      "cell_type": "markdown",
      "metadata": {
        "id": "ILn-NQPwcRtU"
      },
      "source": [
        "### Aplicando a função de Futures"
      ]
    },
    {
      "cell_type": "code",
      "execution_count": null,
      "metadata": {
        "id": "eUaDznozcSLy"
      },
      "outputs": [],
      "source": [
        "k1, k2, variance, av_cl, l, r, H, av_B, av_knn = measures(G_nx)\n",
        "X_net = [k1, k2, variance, av_cl, l, r, H, av_B, av_knn]\n",
        "print(X_net)"
      ]
    },
    {
      "cell_type": "markdown",
      "metadata": {
        "id": "FJK8qJiVcWtD"
      },
      "source": [
        "### Criando as redes complexas\n",
        "\n",
        "Vamos criar uma função que gere modelos de redes complexas atrelados as features que definimos acima. Além disso, vamos acoplar um classificador o qual nos dirá qual o modelo de rede o modelo de classificação identificou."
      ]
    },
    {
      "cell_type": "code",
      "execution_count": null,
      "metadata": {
        "id": "-M3aMRdNcUDm"
      },
      "outputs": [],
      "source": [
        "def generate_network_data(N, av_degree, n_nets):\n",
        "    cl = [\"ER\", \"WS\", \"BA\", \"WS__\", \"WG\"]\n",
        "    X = []\n",
        "    y = []\n",
        "    p = av_degree/(N - 1)\n",
        "\n",
        "    # ER networks\n",
        "    for i in range(n_nets):\n",
        "        GER = nx.gnp_random_graph(N, p, seed=(42 + i), directed=False)\n",
        "        Gcc = sorted(nx.connected_components(GER), key=len, reverse=True)\n",
        "        GER = GER.subgraph(Gcc[0])\n",
        "        GER = nx.convert_node_labels_to_integers(GER, first_label=0)\n",
        "        k1, k2, variance, av_cl, l, r, H, av_B, av_knn = measures(GER)\n",
        "        x = [k1, k2, variance, av_cl, l, r, H, av_B, av_knn]\n",
        "        X.append(x)\n",
        "        y.append(0.0)\n",
        "\n",
        "    # WS networks\n",
        "    k = int(av_degree)\n",
        "    p_ = 0.1  # probability of rewiring\n",
        "    for i in range(n_nets):\n",
        "        GWS = nx.watts_strogatz_graph(N, k, p_, seed=(42 + i))\n",
        "        Gcc = sorted(nx.connected_components(GWS), key=len, reverse=True)\n",
        "        GWS = GWS.subgraph(Gcc[0])\n",
        "        GWS = nx.convert_node_labels_to_integers(GWS, first_label=0)\n",
        "        k1, k2, variance, av_cl, l, r, H, av_B, av_knn = measures(GWS)\n",
        "        x = [k1, k2, variance, av_cl, l, r, H, av_B, av_knn]\n",
        "        X.append(x)\n",
        "        y.append(1.0)\n",
        "\n",
        "    # BA networks\n",
        "    m = int(av_degree/2)\n",
        "    for i in range(n_nets):\n",
        "        GBA = nx.barabasi_albert_graph(N, m)\n",
        "        Gcc = sorted(nx.connected_components(GBA), key=len, reverse=True)\n",
        "        GBA = GBA.subgraph(Gcc[0])\n",
        "        GBA = nx.convert_node_labels_to_integers(GBA, first_label=0)\n",
        "        k1, k2, variance, av_cl, l, r, H, av_B, av_knn = measures(GBA)\n",
        "        x = [k1, k2, variance, av_cl, l, r, H, av_B, av_knn]\n",
        "        X.append(x)\n",
        "        y.append(2.0)\n",
        "\n",
        "    # WS__ networks\n",
        "    k = int(av_degree)\n",
        "    p__ = 0.3\n",
        "    for i in range(n_nets):\n",
        "        GWS__ = nx.watts_strogatz_graph(N, k, p__, seed=(42 + i))\n",
        "        Gcc = sorted(nx.connected_components(GWS__), key=len, reverse=True)\n",
        "        GWS__ = GWS__.subgraph(Gcc[0])\n",
        "        GWS__ = nx.convert_node_labels_to_integers(GWS__, first_label=0)\n",
        "        k1, k2, variance, av_cl, l, r, H, av_B, av_knn = measures(GWS__)\n",
        "        x = [k1, k2, variance, av_cl, l, r, H, av_B, av_knn]\n",
        "        X.append(x)\n",
        "        y.append(3.0)\n",
        "\n",
        "    # WG networks (Waxman)\n",
        "    m = int(av_degree/2)\n",
        "    for i in range(n_nets):\n",
        "        GWX = nx.waxman_graph(N, seed=(42 + i))\n",
        "        Gcc = sorted(nx.connected_components(GWX), key=len, reverse=True)\n",
        "        GWX = GWX.subgraph(Gcc[0])\n",
        "        GWX = nx.convert_node_labels_to_integers(GWX, first_label=0)\n",
        "        k1, k2, variance, av_cl, l, r, H, av_B, av_knn = measures(GWX)\n",
        "        x = [k1, k2, variance, av_cl, l, r, H, av_B, av_knn]\n",
        "        X.append(x)\n",
        "        y.append(4.0)\n",
        "\n",
        "    X = np.array(X)\n",
        "    y = np.array(y)\n",
        "\n",
        "    return X, y, cl"
      ]
    },
    {
      "cell_type": "markdown",
      "metadata": {
        "id": "XsMIVCp2ceBr"
      },
      "source": [
        "### Aplicando a função de modelos de rede"
      ]
    },
    {
      "cell_type": "code",
      "execution_count": null,
      "metadata": {
        "id": "FzZ8887TccAe"
      },
      "outputs": [],
      "source": [
        "# Parâmetros\n",
        "N = len(G_nx)   # Número de nós\n",
        "n_nets = 100    # Número de redes\n",
        "av_degree = k1  # Grau médio\n",
        "\n",
        "X = None\n",
        "y = None\n",
        "\n",
        "# Geração dos dados\n",
        "X, y, cl = generate_network_data(N, av_degree, n_nets)"
      ]
    },
    {
      "cell_type": "markdown",
      "metadata": {
        "id": "pBE-rxMXcj0q"
      },
      "source": [
        "### Função para calcular a acurácia da classificação da rede"
      ]
    },
    {
      "cell_type": "code",
      "execution_count": null,
      "metadata": {
        "id": "Kq4jhRZHcg4T"
      },
      "outputs": [],
      "source": [
        "# Testando a acurácia dos modelos\n",
        "def accuracy_models(X, y):\n",
        "\n",
        "    X_train, X_test, y_train, y_test = train_test_split(X, y, stratify = y,\n",
        "                                                        test_size = 0.3, shuffle = True,\n",
        "                                                        random_state = 42)\n",
        "    scaler = StandardScaler()\n",
        "    X_train = scaler.fit_transform(X_train)\n",
        "    X_test = scaler.transform(X_test)\n",
        "    X_train = np.nan_to_num(X_train)\n",
        "    X_test = np.nan_to_num(X_test)\n",
        "\n",
        "    # KNN\n",
        "    k = 5\n",
        "    model1 = KNeighborsClassifier(n_neighbors = k, metric = \"euclidean\")\n",
        "    model1.fit(X_train, y_train)\n",
        "    y_pred1 = model1.predict(X_test)\n",
        "    score1 = accuracy_score(y_pred1, y_test)\n",
        "\n",
        "    # Regressao Logistica\n",
        "    model2 = LogisticRegression(solver = \"lbfgs\", max_iter = 1000)\n",
        "    model2.fit(X_train, y_train)\n",
        "    y_pred2 = model2.predict(X_test)\n",
        "    score2 = accuracy_score(y_pred2, y_test)\n",
        "\n",
        "    # Naive Bayes\n",
        "    model3 = GaussianNB()\n",
        "    model3.fit(X_train, y_train)\n",
        "    y_pred3 = model3.predict(X_test)\n",
        "    score3 = accuracy_score(y_pred3, y_test)\n",
        "\n",
        "    return score1, score2, score3"
      ]
    },
    {
      "cell_type": "markdown",
      "metadata": {
        "id": "a4p-qvo7dDYz"
      },
      "source": [
        "### Aplicando a função para calcular a acurácia das redes geradas"
      ]
    },
    {
      "cell_type": "code",
      "execution_count": null,
      "metadata": {
        "id": "q2gMAQ6dcmvU"
      },
      "outputs": [],
      "source": [
        "score1, score2, score3 = accuracy_models(X, y)\n",
        "print(\"Accuracy KNN:\", score1)\n",
        "print(\"Accuracy LR:\", score2)\n",
        "print(\"Accuracy NB:\", score3)"
      ]
    },
    {
      "cell_type": "markdown",
      "metadata": {
        "id": "lJdX0Gthlx7q"
      },
      "source": [
        "### Função para a classificação da rede"
      ]
    },
    {
      "cell_type": "code",
      "execution_count": null,
      "metadata": {
        "id": "OqcUUSrWl3Q8"
      },
      "outputs": [],
      "source": [
        "def predicao_modelos(X, y, X_rede):\n",
        "\n",
        "    scaler = StandardScaler().fit(X)\n",
        "    X = scaler.transform(X)\n",
        "\n",
        "    X_rede = np.array(X_rede)\n",
        "    X_rede = X_rede.reshape(1, len(X_rede))\n",
        "    X_rede = scaler.transform(X_rede)\n",
        "    print(\"X_rede:\", X_rede.shape)\n",
        "\n",
        "    # KNN\n",
        "    k = 5\n",
        "    model1 = KNeighborsClassifier(n_neighbors = k, metric = \"euclidean\")\n",
        "    model1.fit(X,y)\n",
        "    y_pred1 = model1.predict(X_rede)\n",
        "    pred1 = cl[int(y_pred1.item())]\n",
        "\n",
        "    model2 = LogisticRegression(solver = \"lbfgs\", max_iter = 1000)\n",
        "    model2.fit(X, y)\n",
        "    y_pred2 = model2.predict(X_rede)\n",
        "    pred2 = cl[int(y_pred2.item())]\n",
        "\n",
        "    model3 = GaussianNB()\n",
        "    model3.fit(X, y)\n",
        "    y_pred3 = model3.predict(X_rede)\n",
        "    pred3 = cl[int(y_pred3.item())]\n",
        "\n",
        "    return pred1, pred2, pred3"
      ]
    },
    {
      "cell_type": "markdown",
      "metadata": {
        "id": "6QR9Jsqxl9oJ"
      },
      "source": [
        "### Aplicando a função de classificação de rede"
      ]
    },
    {
      "cell_type": "code",
      "execution_count": null,
      "metadata": {
        "id": "u9SC9dbYmAYN"
      },
      "outputs": [],
      "source": [
        "pred1, pred2, pred3 = predicao_modelos(X, y, X_net)\n",
        "print(\"Pred KNN:\", pred1)\n",
        "print(\"Pred LR:\", pred2)\n",
        "print(\"Pred NB:\", pred3)"
      ]
    },
    {
      "cell_type": "markdown",
      "metadata": {
        "id": "tQPS-FBtmD-Z"
      },
      "source": [
        "Devido ao fato de que nenhum dos modelos classificou a rede selecionada como uma rede BA (Barabási-Albert), neste momento não realizaremos a avaliação das features que mais impactam essa classificação."
      ]
    },
    {
      "cell_type": "markdown",
      "metadata": {
        "id": "WYq-HUx7nTRa"
      },
      "source": [
        "# Rede `yeast_transcription`"
      ]
    },
    {
      "cell_type": "code",
      "execution_count": null,
      "metadata": {
        "id": "cgo36DIhnSWU"
      },
      "outputs": [],
      "source": [
        "# Importando a rede do Graph-tool\n",
        "\n",
        "G_gt = gt.collection.ns[\"yeast_transcription\"]\n",
        "\n",
        "# Criando um grafo vazio do NetworkX\n",
        "G_nx = nx.Graph()\n",
        "\n",
        "# Adicionando arestas do grafo do Graph-tool para o grafo do NetworkX\n",
        "for edge in G_gt.edges():\n",
        "    G_nx.add_edge(edge.source(), edge.target())\n",
        "\n",
        "# Removendo auto-laços\n",
        "G_nx.remove_edges_from(nx.selfloop_edges(G_nx))\n",
        "\n",
        "# Obtendo o maior componente conectado\n",
        "Gcc = sorted(nx.connected_components(G_nx), key=len, reverse=True)\n",
        "G_nx = G_nx.subgraph(Gcc[0])\n",
        "\n",
        "# Convertendo rótulos de nós para inteiros\n",
        "mapeamento = {node: idx for idx, node in enumerate(G_nx.nodes())}\n",
        "G_nx = nx.relabel_nodes(G_nx, mapeamento)\n",
        "\n",
        "N = len(G_nx)\n",
        "M = G_nx.number_of_edges()\n",
        "print(\"Número de nós:\", N)\n",
        "print(\"Número de arestas:\", M)\n",
        "\n",
        "#Calculando a posição dos nós usando o layout spring do NetworkX\n",
        "pos = nx.spring_layout(G_nx)\n",
        "\n",
        "#Desenhando o grafo\n",
        "plt.figure(figsize=(10, 10))\n",
        "nx.draw(G_nx, pos, node_color=\"red\", node_size=50, with_labels=False)\n",
        "plt.show()"
      ]
    },
    {
      "cell_type": "markdown",
      "metadata": {
        "id": "MqqvlO4Hn3ny"
      },
      "source": [
        "### Distribuição do grau"
      ]
    },
    {
      "cell_type": "code",
      "execution_count": null,
      "metadata": {
        "id": "DqgpTJggnVvt"
      },
      "outputs": [],
      "source": [
        "ks, Pk = degree_distribution(G_nx)\n",
        "\n",
        "plt.figure(figsize=(7, 4))\n",
        "\n",
        "# Primeiro gráfico (log-log)\n",
        "plt.subplot(1, 2, 1)\n",
        "plt.xscale(\"log\")\n",
        "plt.yscale(\"log\")\n",
        "plt.plot(ks, Pk, \"ro\")\n",
        "plt.xlabel(\"k\", fontsize=10)\n",
        "plt.ylabel(\"P(k)\", fontsize=10)\n",
        "plt.title(\"Distribuição do Grau (log-log)\", fontsize=10)\n",
        "\n",
        "# Segundo gráfico (linear)\n",
        "plt.subplot(1, 2, 2)\n",
        "plt.plot(ks, Pk, \"ro\")\n",
        "plt.xlabel(\"k\", fontsize=10)\n",
        "plt.ylabel(\"P(k)\", fontsize=20)\n",
        "plt.title(\"Distribuição do Grau\", fontsize=10)\n",
        "\n",
        "plt.tight_layout()\n",
        "plt.show()"
      ]
    },
    {
      "cell_type": "markdown",
      "metadata": {
        "id": "aRvg3UtJn9oI"
      },
      "source": [
        "### Aplicando a função de features"
      ]
    },
    {
      "cell_type": "code",
      "execution_count": null,
      "metadata": {
        "id": "D3_f6SxWn6m-"
      },
      "outputs": [],
      "source": [
        "k1, k2, variance, av_cl, l, r, H, av_B, av_knn = measures(G_nx)\n",
        "X_net = [k1, k2, variance, av_cl, l, r, H, av_B, av_knn]\n",
        "print(X_net)"
      ]
    },
    {
      "cell_type": "markdown",
      "metadata": {
        "id": "VTb-W9lcoEVb"
      },
      "source": [
        "### Aplicando a função de modelos de redes"
      ]
    },
    {
      "cell_type": "code",
      "execution_count": null,
      "metadata": {
        "id": "YLK6je00oEzp"
      },
      "outputs": [],
      "source": [
        "# Parâmetros\n",
        "N = len(G_nx)   # Número de nós\n",
        "n_nets = 100    # Número de redes\n",
        "av_degree = k1  # Grau médio\n",
        "X = None\n",
        "y = None\n",
        "# Geração dos dados\n",
        "X, y, cl = generate_network_data(N, av_degree, n_nets)"
      ]
    },
    {
      "cell_type": "markdown",
      "metadata": {
        "id": "wNajh8T8oKx0"
      },
      "source": [
        "### Aplicando a função para calcular a acurácia das redes geradas"
      ]
    },
    {
      "cell_type": "code",
      "execution_count": null,
      "metadata": {
        "id": "DrD9qBLroT8_"
      },
      "outputs": [],
      "source": [
        "score1, score2, score3 = accuracy_models(X, y)\n",
        "print(\"Accuracy KNN:\", score1)\n",
        "print(\"Accuracy LR:\", score2)\n",
        "print(\"Accuracy NB:\", score3)"
      ]
    },
    {
      "cell_type": "markdown",
      "metadata": {
        "id": "9cp9fXFRoWm1"
      },
      "source": [
        "### Aplicando a função de classificação de rede"
      ]
    },
    {
      "cell_type": "code",
      "execution_count": null,
      "metadata": {
        "id": "jfwwTK8Uvv3i"
      },
      "outputs": [],
      "source": [
        "pred1, pred2, pred3 = predicao_modelos(X, y, X_net)\n",
        "print(\"Pred KNN:\", pred1)\n",
        "print(\"Pred LR:\", pred2)\n",
        "print(\"Pred NB:\", pred3)"
      ]
    },
    {
      "cell_type": "markdown",
      "metadata": {
        "id": "pHBYzt8Ew3c4"
      },
      "source": [
        "Observe que dois modelos classificaram a rede como BA (Barabási-Albert) e um modelo a classificou como WG (Waxman). Vamos analisar quais features mais contribuíram para essas classificações. Para isso, definiremos uma função que gera um gráfico dessas contribuições."
      ]
    },
    {
      "cell_type": "markdown",
      "metadata": {
        "id": "-Q8BDApzwI8O"
      },
      "source": [
        "### Função para encontrar a importância das features"
      ]
    },
    {
      "cell_type": "code",
      "execution_count": null,
      "metadata": {
        "id": "-evsKFtQwPXm"
      },
      "outputs": [],
      "source": [
        "def predicao_modelos_importance(X, y, x_rede, cl):\n",
        "    scaler = StandardScaler().fit(X)\n",
        "    X = scaler.transform(X)\n",
        "\n",
        "    x_rede = np.array(x_rede)\n",
        "    x_rede = x_rede.reshape(1, len(x_rede))\n",
        "    x_rede = scaler.transform(x_rede)\n",
        "\n",
        "    feat = [\"k1\", \"k2\", \"variance\", \"av_cl\", \"l\", \"r\", \"H\", \"av_B\", \"av_knn\"]\n",
        "\n",
        "    k = 5\n",
        "    model1 = KNeighborsClassifier(n_neighbors=k, metric=\"euclidean\")\n",
        "    model1.fit(X, y)\n",
        "    y_pred1 = model1.predict(x_rede)\n",
        "    pred1 = cl[int(y_pred1.item())]\n",
        "\n",
        "    model2 = LogisticRegression(solver=\"lbfgs\", max_iter=1000)\n",
        "    model2.fit(X, y)\n",
        "    y_pred2 = model2.predict(x_rede)\n",
        "    pred2 = cl[int(y_pred2.item())]\n",
        "\n",
        "    model3 = GaussianNB()\n",
        "    model3.fit(X, y)\n",
        "    y_pred3 = model3.predict(x_rede)\n",
        "    pred3 = cl[int(y_pred3.item())]\n",
        "\n",
        "    # Importância das features para Regressão Logística\n",
        "    coefficients = model2.coef_\n",
        "    avg_importance = np.mean(np.abs(coefficients), axis=0)\n",
        "    normalized_importance = avg_importance / np.sum(avg_importance)\n",
        "    feature_importance_lr = pd.DataFrame({\"Feature\": feat, \"Importance\": normalized_importance})\n",
        "    feature_importance_lr = feature_importance_lr.sort_values(\"Importance\", ascending=True)\n",
        "\n",
        "    plt.figure(figsize=(10, 6))\n",
        "    plt.barh(feature_importance_lr['Feature'], feature_importance_lr['Importance'], color='red')\n",
        "    plt.xlabel('Importance')\n",
        "    plt.ylabel('Feature')\n",
        "    plt.title(\"Feature Importance - Logistic Regression\")\n",
        "    plt.show()\n",
        "\n",
        "    # Importância das features para KNN\n",
        "    result_knn = permutation_importance(model1, X, y, n_repeats=30, random_state=42)\n",
        "    feature_importance_knn = pd.DataFrame({\"Feature\": feat, \"Importance\": result_knn.importances_mean})\n",
        "    feature_importance_knn = feature_importance_knn.sort_values(\"Importance\", ascending=True)\n",
        "\n",
        "    plt.figure(figsize=(10, 6))\n",
        "    plt.barh(feature_importance_knn['Feature'], feature_importance_knn['Importance'], color='red')\n",
        "    plt.xlabel('Importance')\n",
        "    plt.ylabel('Feature')\n",
        "    plt.title(\"Feature Importance - KNN\")\n",
        "    plt.show()\n",
        "\n",
        "    # Importância das features para GaussianNB\n",
        "    result_nb = permutation_importance(model3, X, y, n_repeats=30, random_state=42)\n",
        "    feature_importance_nb = pd.DataFrame({\"Feature\": feat, \"Importance\": result_nb.importances_mean})\n",
        "    feature_importance_nb = feature_importance_nb.sort_values(\"Importance\", ascending=True)\n",
        "\n",
        "    plt.figure(figsize=(10, 6))\n",
        "    plt.barh(feature_importance_nb['Feature'], feature_importance_nb['Importance'], color='red')\n",
        "    plt.xlabel('Importance')\n",
        "    plt.ylabel('Feature')\n",
        "    plt.title(\"Feature Importance - Naive Bayes\")\n",
        "    plt.show()\n",
        "\n",
        "    return pred1, pred2, pred3"
      ]
    },
    {
      "cell_type": "code",
      "execution_count": null,
      "metadata": {
        "id": "y4LjydgWwrsi"
      },
      "outputs": [],
      "source": [
        "cl = [\"ER\", \"WS\", \"BA\", \"WS__\", \"WG\"]\n",
        "\n",
        "# Suponha que X, y, e X_net sejam definidos anteriormente no código\n",
        "pred1, pred2, pred3 = predicao_modelos_importance(X, y, X_net, cl )\n",
        "\n",
        "print(\"Pred KNN:\", pred1)\n",
        "print(\"Pred LR:\", pred2)\n",
        "print(\"Pred NB:\", pred3)\n"
      ]
    },
    {
      "cell_type": "markdown",
      "metadata": {
        "id": "I0J8qqAD0fcK"
      },
      "source": [
        "O diagnóstico sobre as principais features que contribuem para a classificação da rede como BA será apresentado no final do notebook."
      ]
    },
    {
      "cell_type": "markdown",
      "metadata": {
        "id": "z-0D6SRw3VdT"
      },
      "source": [
        "# Rede `foodweb_little_rock`"
      ]
    },
    {
      "cell_type": "code",
      "execution_count": null,
      "metadata": {
        "id": "IN32PzXQ3Pq-"
      },
      "outputs": [],
      "source": [
        "\n",
        "# Importando a rede do Graph-tool\n",
        "\n",
        "G_gt = gt.collection.ns[\"foodweb_little_rock\"]\n",
        "\n",
        "# Criando um grafo vazio do NetworkX\n",
        "G_nx = nx.Graph()\n",
        "\n",
        "# Adicionando arestas do grafo do Graph-tool para o grafo do NetworkX\n",
        "for edge in G_gt.edges():\n",
        "    G_nx.add_edge(edge.source(), edge.target())\n",
        "\n",
        "# Removendo auto-laços\n",
        "G_nx.remove_edges_from(nx.selfloop_edges(G_nx))\n",
        "\n",
        "# Obtendo o maior componente conectado\n",
        "Gcc = sorted(nx.connected_components(G_nx), key=len, reverse=True)\n",
        "G_nx = G_nx.subgraph(Gcc[0])\n",
        "\n",
        "# Convertendo rótulos de nós para inteiros\n",
        "mapeamento = {node: idx for idx, node in enumerate(G_nx.nodes())}\n",
        "G_nx = nx.relabel_nodes(G_nx, mapeamento)\n",
        "\n",
        "N = len(G_nx)\n",
        "M = G_nx.number_of_edges()\n",
        "print(\"Número de nós:\", N)\n",
        "print(\"Número de arestas:\", M)\n",
        "\n",
        "#Calculando a posição dos nós usando o layout spring do NetworkX\n",
        "pos = nx.spring_layout(G_nx)\n",
        "\n",
        "#Desenhando o grafo\n",
        "plt.figure(figsize=(10, 10))\n",
        "nx.draw(G_nx, pos, node_color=\"red\", node_size=50, with_labels=False)\n",
        "plt.show()"
      ]
    },
    {
      "cell_type": "markdown",
      "metadata": {
        "id": "ui_UEwV23bIY"
      },
      "source": [
        "### Distribuição do grau\n"
      ]
    },
    {
      "cell_type": "code",
      "execution_count": null,
      "metadata": {
        "id": "pU_qpeNc3YEf"
      },
      "outputs": [],
      "source": [
        "ks, Pk = degree_distribution(G_nx)\n",
        "\n",
        "plt.figure(figsize=(7, 4))\n",
        "\n",
        "# Primeiro gráfico (log-log)\n",
        "plt.subplot(1, 2, 1)\n",
        "plt.xscale(\"log\")\n",
        "plt.yscale(\"log\")\n",
        "plt.plot(ks, Pk, \"ro\")\n",
        "plt.xlabel(\"k\", fontsize=10)\n",
        "plt.ylabel(\"P(k)\", fontsize=10)\n",
        "plt.title(\"Distribuição do Grau (log-log)\", fontsize=10)\n",
        "\n",
        "# Segundo gráfico (linear)\n",
        "plt.subplot(1, 2, 2)\n",
        "plt.plot(ks, Pk, \"ro\")\n",
        "plt.xlabel(\"k\", fontsize=10)\n",
        "plt.ylabel(\"P(k)\", fontsize=20)\n",
        "plt.title(\"Distribuição do Grau\", fontsize=10)\n",
        "\n",
        "plt.tight_layout()\n",
        "plt.show()"
      ]
    },
    {
      "cell_type": "markdown",
      "metadata": {
        "id": "vjtoyc9w3mVn"
      },
      "source": [
        "### Aplicando a função de features"
      ]
    },
    {
      "cell_type": "code",
      "execution_count": null,
      "metadata": {
        "id": "brmyPZAf3rIh"
      },
      "outputs": [],
      "source": [
        "k1, k2, variance, av_cl, l, r, H, av_B, av_knn = measures(G_nx)\n",
        "X_net = [k1, k2, variance, av_cl, l, r, H, av_B, av_knn]\n",
        "print(X_net)"
      ]
    },
    {
      "cell_type": "markdown",
      "metadata": {
        "id": "_vTtMr_o3uuL"
      },
      "source": [
        "### Aplicando a função de modelos de redes"
      ]
    },
    {
      "cell_type": "code",
      "execution_count": null,
      "metadata": {
        "id": "qmnfbQNL3rmr"
      },
      "outputs": [],
      "source": [
        "# Parâmetros\n",
        "N = len(G_nx)   # Número de nós\n",
        "n_nets = 100    # Número de redes\n",
        "av_degree = k1  # Grau médio\n",
        "X = None\n",
        "y = None\n",
        "# Geração dos dados\n",
        "X, y, cl = generate_network_data(N, av_degree, n_nets)"
      ]
    },
    {
      "cell_type": "markdown",
      "metadata": {
        "id": "9sxne7Z-36fC"
      },
      "source": [
        "### Aplicando a função para calcular a acurácia das redes geradas"
      ]
    },
    {
      "cell_type": "code",
      "execution_count": null,
      "metadata": {
        "id": "pEfoD7UZ3wnz"
      },
      "outputs": [],
      "source": [
        "score1, score2, score3 = accuracy_models(X, y)\n",
        "print(\"Accuracy KNN:\", score1)\n",
        "print(\"Accuracy LR:\", score2)\n",
        "print(\"Accuracy NB:\", score3)"
      ]
    },
    {
      "cell_type": "markdown",
      "metadata": {
        "id": "vyYONBzr4Kak"
      },
      "source": [
        "### Aplicando a função de classificação de rede"
      ]
    },
    {
      "cell_type": "code",
      "execution_count": null,
      "metadata": {
        "id": "9p5nmGYp4LjD"
      },
      "outputs": [],
      "source": [
        "pred1, pred2, pred3 = predicao_modelos(X, y, X_net)\n",
        "print(\"Pred KNN:\", pred1)\n",
        "print(\"Pred LR:\", pred2)\n",
        "print(\"Pred NB:\", pred3)"
      ]
    },
    {
      "cell_type": "markdown",
      "metadata": {
        "id": "l-fWnZWg5H2c"
      },
      "source": [
        "Aqui, novamente temos dois modelos classificando a rede como BA (Barabási-Albert), então vamos avaliar as features que mais influenciaram nesta classificação."
      ]
    },
    {
      "cell_type": "code",
      "execution_count": null,
      "metadata": {
        "id": "_oeljlin5gTP"
      },
      "outputs": [],
      "source": [
        "pred1, pred2, pred3 = predicao_modelos_importance(X, y, X_net, cl )\n",
        "\n",
        "print(\"Pred KNN:\", pred1)\n",
        "print(\"Pred LR:\", pred2)\n",
        "print(\"Pred NB:\", pred3)\n"
      ]
    },
    {
      "cell_type": "markdown",
      "metadata": {
        "id": "I3mTGTKY7Qj0"
      },
      "source": [
        "------\n",
        "\n",
        "# Redes Tecnológicas"
      ]
    },
    {
      "cell_type": "markdown",
      "metadata": {
        "id": "9VgA1MAw7UjK"
      },
      "source": [
        "Agora vamos fazer a classificação para as redes sociais a seguir:\n",
        "\n",
        "Site utilizado: https://networks.skewed.de\n",
        "\n",
        "https://networks.skewed.de/net/cs_department (Aarhus Computer Science department relationships)\n",
        "\n",
        "https://networks.skewed.de/net/facebook_friends (Maier Facebook friends (2014))\n",
        "\n",
        "https://networks.skewed.de/net/macaques (Japanese macaques (1976))"
      ]
    },
    {
      "cell_type": "markdown",
      "metadata": {
        "id": "rU-gOTJR7Y0z"
      },
      "source": [
        "# Rede `Aarhus Computer Science department relationships `"
      ]
    },
    {
      "cell_type": "code",
      "execution_count": null,
      "metadata": {
        "id": "hI2uyehD7Tmy"
      },
      "outputs": [],
      "source": [
        "# Importando a rede do Graph-tool\n",
        "\n",
        "G_gt = gt.collection.ns[\"cs_department\"]\n",
        "\n",
        "\n",
        "# Criando um grafo vazio do NetworkX\n",
        "G_nx = nx.Graph()\n",
        "\n",
        "# Adicionando arestas do grafo do Graph-tool para o grafo do NetworkX\n",
        "for edge in G_gt.edges():\n",
        "    G_nx.add_edge(edge.source(), edge.target())\n",
        "\n",
        "# Removendo auto-laços\n",
        "G_nx.remove_edges_from(nx.selfloop_edges(G_nx))\n",
        "\n",
        "# Obtendo o maior componente conectado\n",
        "Gcc = sorted(nx.connected_components(G_nx), key=len, reverse=True)\n",
        "G_nx = G_nx.subgraph(Gcc[0])\n",
        "\n",
        "# Convertendo rótulos de nós para inteiros\n",
        "mapeamento = {node: idx for idx, node in enumerate(G_nx.nodes())}\n",
        "G_nx = nx.relabel_nodes(G_nx, mapeamento)\n",
        "\n",
        "N = len(G_nx)\n",
        "M = G_nx.number_of_edges()\n",
        "print(\"Número de nós:\", N)\n",
        "print(\"Número de arestas:\", M)\n",
        "\n",
        "#Calculando a posição dos nós usando o layout spring do NetworkX\n",
        "pos = nx.spring_layout(G_nx)\n",
        "\n",
        "#Desenhando o grafo\n",
        "plt.figure(figsize=(10, 10))\n",
        "nx.draw(G_nx, pos, node_color=\"blue\", node_size=50, with_labels=False)\n",
        "plt.show()"
      ]
    },
    {
      "cell_type": "markdown",
      "metadata": {
        "id": "sgIWHHIJ7e70"
      },
      "source": [
        "### Distribuição do grau"
      ]
    },
    {
      "cell_type": "code",
      "execution_count": null,
      "metadata": {
        "id": "GTmxh_QJ7fcD"
      },
      "outputs": [],
      "source": [
        "ks, Pk = degree_distribution(G_nx)\n",
        "\n",
        "plt.figure(figsize=(7, 4))\n",
        "\n",
        "# Primeiro gráfico (log-log)\n",
        "plt.subplot(1, 2, 1)\n",
        "plt.xscale(\"log\")\n",
        "plt.yscale(\"log\")\n",
        "plt.plot(ks, Pk, \"bo\")\n",
        "plt.xlabel(\"k\", fontsize=10)\n",
        "plt.ylabel(\"P(k)\", fontsize=10)\n",
        "plt.title(\"Distribuição do Grau (log-log)\", fontsize=10)\n",
        "\n",
        "# Segundo gráfico (linear)\n",
        "plt.subplot(1, 2, 2)\n",
        "plt.plot(ks, Pk, \"bo\")\n",
        "plt.xlabel(\"k\", fontsize=10)\n",
        "plt.ylabel(\"P(k)\", fontsize=20)\n",
        "plt.title(\"Distribuição do Grau\", fontsize=10)\n",
        "\n",
        "plt.tight_layout()\n",
        "plt.show()"
      ]
    },
    {
      "cell_type": "markdown",
      "metadata": {
        "id": "whn7Y5VY7k79"
      },
      "source": [
        "### Aplicando a função de features"
      ]
    },
    {
      "cell_type": "code",
      "execution_count": null,
      "metadata": {
        "id": "pldlK01g7hz_"
      },
      "outputs": [],
      "source": [
        "k1, k2, variance, av_cl, l, r, H, av_B, av_knn = measures(G_nx)\n",
        "X_net = [k1, k2, variance, av_cl, l, r, H, av_B, av_knn]\n",
        "print(X_net)"
      ]
    },
    {
      "cell_type": "markdown",
      "metadata": {
        "id": "llLH25MQ7pe7"
      },
      "source": [
        "### Aplicando a função de modelos de redes"
      ]
    },
    {
      "cell_type": "code",
      "execution_count": null,
      "metadata": {
        "id": "qrqZ3jKZ7nD-"
      },
      "outputs": [],
      "source": [
        "# Parâmetros\n",
        "N = len(G_nx)  # Número de nós\n",
        "n_nets = 100    # Número de redes\n",
        "av_degree = k1 # Grau médio\n",
        "X = None\n",
        "y = None\n",
        "# Geração dos dados\n",
        "X, y, cl = generate_network_data(N, av_degree, n_nets)\n"
      ]
    },
    {
      "cell_type": "markdown",
      "metadata": {
        "id": "wHmsscgq7ypb"
      },
      "source": [
        "### Aplicando a função para calcular a acurácia das redes geradas"
      ]
    },
    {
      "cell_type": "code",
      "execution_count": null,
      "metadata": {
        "id": "Ybd6DaMs7sQv"
      },
      "outputs": [],
      "source": [
        "score1, score2, score3 = accuracy_models(X, y)\n",
        "print(\"Accuracy KNN:\", score1)\n",
        "print(\"Accuracy LR:\", score2)\n",
        "print(\"Accuracy NB:\", score3)"
      ]
    },
    {
      "cell_type": "markdown",
      "metadata": {
        "id": "w9T8gQ3L77lz"
      },
      "source": [
        "### Aplicando a função de classificação de rede"
      ]
    },
    {
      "cell_type": "code",
      "execution_count": null,
      "metadata": {
        "id": "Yn_qtRpE8BRm"
      },
      "outputs": [],
      "source": [
        "pred1, pred2, pred3 = predicao_modelos(X, y, X_net)\n",
        "print(\"Pred KNN:\", pred1)\n",
        "print(\"Pred LR:\", pred2)\n",
        "print(\"Pred NB:\", pred3)"
      ]
    },
    {
      "cell_type": "markdown",
      "metadata": {
        "id": "mGZKMTo48Mrb"
      },
      "source": [
        "Vamos refazer a função das importâncias das features para alterarmos as cores de plotagem gráficas. Dois modelos também classificaram a rede como BA."
      ]
    },
    {
      "cell_type": "markdown",
      "metadata": {
        "id": "Z4fuROVw8grM"
      },
      "source": [
        "### Função para encontrar a importância das features"
      ]
    },
    {
      "cell_type": "code",
      "execution_count": null,
      "metadata": {
        "id": "KtJW2Y0c8Ypf"
      },
      "outputs": [],
      "source": [
        "def predicao_modelos_importance(X, y, x_rede, cl):\n",
        "    scaler = StandardScaler().fit(X)\n",
        "    X = scaler.transform(X)\n",
        "\n",
        "    x_rede = np.array(x_rede)\n",
        "    x_rede = x_rede.reshape(1, len(x_rede))\n",
        "    x_rede = scaler.transform(x_rede)\n",
        "\n",
        "    feat = [\"k1\", \"k2\", \"variance\", \"av_cl\", \"l\", \"r\", \"H\", \"av_B\", \"av_knn\"]\n",
        "\n",
        "    k = 5\n",
        "    model1 = KNeighborsClassifier(n_neighbors=k, metric=\"euclidean\")\n",
        "    model1.fit(X, y)\n",
        "    y_pred1 = model1.predict(x_rede)\n",
        "    pred1 = cl[int(y_pred1.item())]\n",
        "\n",
        "    model2 = LogisticRegression(solver=\"lbfgs\", max_iter=1000)\n",
        "    model2.fit(X, y)\n",
        "    y_pred2 = model2.predict(x_rede)\n",
        "    pred2 = cl[int(y_pred2.item())]\n",
        "\n",
        "    model3 = GaussianNB()\n",
        "    model3.fit(X, y)\n",
        "    y_pred3 = model3.predict(x_rede)\n",
        "    pred3 = cl[int(y_pred3.item())]\n",
        "\n",
        "    # Importância das features para Regressão Logística\n",
        "    coefficients = model2.coef_\n",
        "    avg_importance = np.mean(np.abs(coefficients), axis=0)\n",
        "    normalized_importance = avg_importance / np.sum(avg_importance)\n",
        "    feature_importance_lr = pd.DataFrame({\"Feature\": feat, \"Importance\": normalized_importance})\n",
        "    feature_importance_lr = feature_importance_lr.sort_values(\"Importance\", ascending=True)\n",
        "\n",
        "    plt.figure(figsize=(10, 6))\n",
        "    plt.barh(feature_importance_lr['Feature'], feature_importance_lr['Importance'], color='blue')\n",
        "    plt.xlabel('Importance')\n",
        "    plt.ylabel('Feature')\n",
        "    plt.title(\"Feature Importance - Logistic Regression\")\n",
        "    plt.show()\n",
        "\n",
        "    # Importância das features para KNN\n",
        "    result_knn = permutation_importance(model1, X, y, n_repeats=30, random_state=42)\n",
        "    feature_importance_knn = pd.DataFrame({\"Feature\": feat, \"Importance\": result_knn.importances_mean})\n",
        "    feature_importance_knn = feature_importance_knn.sort_values(\"Importance\", ascending=True)\n",
        "\n",
        "    plt.figure(figsize=(10, 6))\n",
        "    plt.barh(feature_importance_knn['Feature'], feature_importance_knn['Importance'], color='blue')\n",
        "    plt.xlabel('Importance')\n",
        "    plt.ylabel('Feature')\n",
        "    plt.title(\"Feature Importance - KNN\")\n",
        "    plt.show()\n",
        "\n",
        "    # Importância das features para GaussianNB\n",
        "    result_nb = permutation_importance(model3, X, y, n_repeats=30, random_state=42)\n",
        "    feature_importance_nb = pd.DataFrame({\"Feature\": feat, \"Importance\": result_nb.importances_mean})\n",
        "    feature_importance_nb = feature_importance_nb.sort_values(\"Importance\", ascending=True)\n",
        "\n",
        "    plt.figure(figsize=(10, 6))\n",
        "    plt.barh(feature_importance_nb['Feature'], feature_importance_nb['Importance'], color='blue')\n",
        "    plt.xlabel('Importance')\n",
        "    plt.ylabel('Feature')\n",
        "    plt.title(\"Feature Importance - Naive Bayes\")\n",
        "    plt.show()\n",
        "\n",
        "    return pred1, pred2, pred3"
      ]
    },
    {
      "cell_type": "code",
      "execution_count": null,
      "metadata": {
        "id": "NeNUFgdo8sHz"
      },
      "outputs": [],
      "source": [
        "pred1, pred2, pred3 = predicao_modelos_importance(X, y, X_net, cl )\n",
        "\n",
        "print(\"Pred KNN:\", pred1)\n",
        "print(\"Pred LR:\", pred2)\n",
        "print(\"Pred NB:\", pred3)"
      ]
    },
    {
      "cell_type": "markdown",
      "metadata": {
        "id": "e3myIHid9BTz"
      },
      "source": [
        "# Rede `Maier Facebook friends (2014)`"
      ]
    },
    {
      "cell_type": "code",
      "execution_count": null,
      "metadata": {
        "id": "z-ktl9Eg9Du3"
      },
      "outputs": [],
      "source": [
        "# Importando a rede do Graph-tool\n",
        "\n",
        "G_gt = gt.collection.ns[\"facebook_friends\"]\n",
        "\n",
        "\n",
        "# Criando um grafo vazio do NetworkX\n",
        "G_nx = nx.Graph()\n",
        "\n",
        "# Adicionando arestas do grafo do Graph-tool para o grafo do NetworkX\n",
        "for edge in G_gt.edges():\n",
        "    G_nx.add_edge(edge.source(), edge.target())\n",
        "\n",
        "# Removendo auto-laços\n",
        "G_nx.remove_edges_from(nx.selfloop_edges(G_nx))\n",
        "\n",
        "# Obtendo o maior componente conectado\n",
        "Gcc = sorted(nx.connected_components(G_nx), key=len, reverse=True)\n",
        "G_nx = G_nx.subgraph(Gcc[0])\n",
        "\n",
        "# Convertendo rótulos de nós para inteiros\n",
        "mapeamento = {node: idx for idx, node in enumerate(G_nx.nodes())}\n",
        "G_nx = nx.relabel_nodes(G_nx, mapeamento)\n",
        "\n",
        "N = len(G_nx)\n",
        "M = G_nx.number_of_edges()\n",
        "print(\"Número de nós:\", N)\n",
        "print(\"Número de arestas:\", M)\n",
        "\n",
        "#Calculando a posição dos nós usando o layout spring do NetworkX\n",
        "pos = nx.spring_layout(G_nx)\n",
        "\n",
        "#Desenhando o grafo\n",
        "plt.figure(figsize=(10, 10))\n",
        "nx.draw(G_nx, pos, node_color=\"blue\", node_size=50, with_labels=False)\n",
        "plt.show()"
      ]
    },
    {
      "cell_type": "markdown",
      "metadata": {
        "id": "jkU6fn_39K7j"
      },
      "source": [
        "### Distribuição do grau"
      ]
    },
    {
      "cell_type": "code",
      "execution_count": null,
      "metadata": {
        "id": "bjpto_UK9Ggr"
      },
      "outputs": [],
      "source": [
        "ks, Pk = degree_distribution(G_nx)\n",
        "\n",
        "plt.figure(figsize=(7, 4))\n",
        "\n",
        "# Primeiro gráfico (log-log)\n",
        "plt.subplot(1, 2, 1)\n",
        "plt.xscale(\"log\")\n",
        "plt.yscale(\"log\")\n",
        "plt.plot(ks, Pk, \"bo\")\n",
        "plt.xlabel(\"k\", fontsize=10)\n",
        "plt.ylabel(\"P(k)\", fontsize=10)\n",
        "plt.title(\"Distribuição do Grau (log-log)\", fontsize=10)\n",
        "\n",
        "# Segundo gráfico (linear)\n",
        "plt.subplot(1, 2, 2)\n",
        "plt.plot(ks, Pk, \"bo\")\n",
        "plt.xlabel(\"k\", fontsize=10)\n",
        "plt.ylabel(\"P(k)\", fontsize=20)\n",
        "plt.title(\"Distribuição do Grau\", fontsize=10)\n",
        "\n",
        "plt.tight_layout()\n",
        "plt.show()"
      ]
    },
    {
      "cell_type": "markdown",
      "metadata": {
        "id": "JGsVRbdt9Pts"
      },
      "source": [
        "### Aplicando a função de features"
      ]
    },
    {
      "cell_type": "code",
      "execution_count": null,
      "metadata": {
        "id": "GmQItK5n9NuL"
      },
      "outputs": [],
      "source": [
        "k1, k2, variance, av_cl, l, r, H, av_B, av_knn = measures(G_nx)\n",
        "X_net = [k1, k2, variance, av_cl, l, r, H, av_B, av_knn]\n",
        "print(X_net)"
      ]
    },
    {
      "cell_type": "markdown",
      "metadata": {
        "id": "4KNeoIfZ9UZm"
      },
      "source": [
        "### Aplicando a função de modelos de redes"
      ]
    },
    {
      "cell_type": "code",
      "execution_count": null,
      "metadata": {
        "id": "m7jdhTnn9Rr3"
      },
      "outputs": [],
      "source": [
        "# Parâmetros\n",
        "N = len(G_nx)  # Número de nós\n",
        "n_nets = 100    # Número de redes\n",
        "av_degree = k1 # Grau médio\n",
        "X = None\n",
        "y = None\n",
        "# Geração dos dados\n",
        "X, y, cl = generate_network_data(N, av_degree, n_nets)"
      ]
    },
    {
      "cell_type": "markdown",
      "metadata": {
        "id": "nxj6KC2i9YZO"
      },
      "source": [
        "### Aplicando a função para calcular a acurácia das redes geradas"
      ]
    },
    {
      "cell_type": "code",
      "execution_count": null,
      "metadata": {
        "id": "X_RILrlY9Wmz"
      },
      "outputs": [],
      "source": [
        "score1, score2, score3 = accuracy_models(X, y)\n",
        "print(\"Accuracy KNN:\", score1)\n",
        "print(\"Accuracy LR:\", score2)\n",
        "print(\"Accuracy NB:\", score3)"
      ]
    },
    {
      "cell_type": "markdown",
      "metadata": {
        "id": "Gu5R1pj99vc0"
      },
      "source": [
        "### Aplicando a função de classificação de rede"
      ]
    },
    {
      "cell_type": "code",
      "execution_count": null,
      "metadata": {
        "id": "gWvkRezI9v5-"
      },
      "outputs": [],
      "source": [
        "pred1, pred2, pred3 = predicao_modelos(X, y, X_net)\n",
        "print(\"Pred KNN:\", pred1)\n",
        "print(\"Pred LR:\", pred2)\n",
        "print(\"Pred NB:\", pred3)"
      ]
    },
    {
      "cell_type": "markdown",
      "metadata": {
        "id": "2QraENYi-FJk"
      },
      "source": [
        "### Plotagem da importância das features"
      ]
    },
    {
      "cell_type": "code",
      "execution_count": null,
      "metadata": {
        "id": "yKcWRbFN-LK8"
      },
      "outputs": [],
      "source": [
        "pred1, pred2, pred3 = predicao_modelos_importance(X, y, X_net, cl )\n",
        "\n",
        "print(\"Pred KNN:\", pred1)\n",
        "print(\"Pred LR:\", pred2)\n",
        "print(\"Pred NB:\", pred3)"
      ]
    },
    {
      "cell_type": "markdown",
      "metadata": {
        "id": "Wi-MWdh4_dmO"
      },
      "source": [
        "# Rede `Japanese macaques (1976)`"
      ]
    },
    {
      "cell_type": "code",
      "execution_count": null,
      "metadata": {
        "id": "5jaZcBGn_icr"
      },
      "outputs": [],
      "source": [
        "# Importando a rede do Graph-tool\n",
        "\n",
        "G_gt = gt.collection.ns[\"macaques\"]\n",
        "\n",
        "\n",
        "# Criando um grafo vazio do NetworkX\n",
        "G_nx = nx.Graph()\n",
        "\n",
        "# Adicionando arestas do grafo do Graph-tool para o grafo do NetworkX\n",
        "for edge in G_gt.edges():\n",
        "    G_nx.add_edge(edge.source(), edge.target())\n",
        "\n",
        "# Removendo auto-laços\n",
        "G_nx.remove_edges_from(nx.selfloop_edges(G_nx))\n",
        "\n",
        "# Obtendo o maior componente conectado\n",
        "Gcc = sorted(nx.connected_components(G_nx), key=len, reverse=True)\n",
        "G_nx = G_nx.subgraph(Gcc[0])\n",
        "\n",
        "# Convertendo rótulos de nós para inteiros\n",
        "mapeamento = {node: idx for idx, node in enumerate(G_nx.nodes())}\n",
        "G_nx = nx.relabel_nodes(G_nx, mapeamento)\n",
        "\n",
        "N = len(G_nx)\n",
        "M = G_nx.number_of_edges()\n",
        "print(\"Número de nós:\", N)\n",
        "print(\"Número de arestas:\", M)\n",
        "\n",
        "#Calculando a posição dos nós usando o layout spring do NetworkX\n",
        "pos = nx.spring_layout(G_nx)\n",
        "\n",
        "#Desenhando o grafo\n",
        "plt.figure(figsize=(10, 10))\n",
        "nx.draw(G_nx, pos, node_color=\"blue\", node_size=50, with_labels=False)\n",
        "plt.show()"
      ]
    },
    {
      "cell_type": "markdown",
      "metadata": {
        "id": "yzPu8Sjc_o0d"
      },
      "source": [
        "### Distribuição do grau"
      ]
    },
    {
      "cell_type": "code",
      "execution_count": null,
      "metadata": {
        "id": "xeYH10ku_ki_"
      },
      "outputs": [],
      "source": [
        "ks, Pk = degree_distribution(G_nx)\n",
        "\n",
        "plt.figure(figsize=(7, 4))\n",
        "\n",
        "# Primeiro gráfico (log-log)\n",
        "plt.subplot(1, 2, 1)\n",
        "plt.xscale(\"log\")\n",
        "plt.yscale(\"log\")\n",
        "plt.plot(ks, Pk, \"bo\")\n",
        "plt.xlabel(\"k\", fontsize=10)\n",
        "plt.ylabel(\"P(k)\", fontsize=10)\n",
        "plt.title(\"Distribuição do Grau (log-log)\", fontsize=10)\n",
        "\n",
        "# Segundo gráfico (linear)\n",
        "plt.subplot(1, 2, 2)\n",
        "plt.plot(ks, Pk, \"bo\")\n",
        "plt.xlabel(\"k\", fontsize=10)\n",
        "plt.ylabel(\"P(k)\", fontsize=20)\n",
        "plt.title(\"Distribuição do Grau\", fontsize=10)\n",
        "\n",
        "plt.tight_layout()\n",
        "plt.show()"
      ]
    },
    {
      "cell_type": "markdown",
      "metadata": {
        "id": "6kh1hrPU_ueD"
      },
      "source": [
        "###  Aplicando a função de features"
      ]
    },
    {
      "cell_type": "code",
      "execution_count": null,
      "metadata": {
        "id": "9RZ6LbLN_rdj"
      },
      "outputs": [],
      "source": [
        "k1, k2, variance, av_cl, l, r, H, av_B, av_knn = measures(G_nx)\n",
        "X_net = [k1, k2, variance, av_cl, l, r, H, av_B, av_knn]\n",
        "print(X_net)"
      ]
    },
    {
      "cell_type": "markdown",
      "metadata": {
        "id": "32yUmrS3_xqr"
      },
      "source": [
        "### Aplicando a função modelo de redes"
      ]
    },
    {
      "cell_type": "code",
      "execution_count": null,
      "metadata": {
        "id": "zGktRKeC_waf"
      },
      "outputs": [],
      "source": [
        "# Parâmetros\n",
        "N = len(G_nx)  # Número de nós\n",
        "n_nets = 100   # Número de redes\n",
        "av_degree = k1 # Grau médio\n",
        "X = None\n",
        "y = None\n",
        "# Geração dos dados\n",
        "X, y, cl = generate_network_data(N, av_degree, n_nets)"
      ]
    },
    {
      "cell_type": "markdown",
      "metadata": {
        "id": "JltNAfRS_81o"
      },
      "source": [
        "### Aplicando a função para calcular a acurácia das redes geradas"
      ]
    },
    {
      "cell_type": "code",
      "execution_count": null,
      "metadata": {
        "id": "YGpTQEvS_2Qc"
      },
      "outputs": [],
      "source": [
        "score1, score2, score3 = accuracy_models(X, y)\n",
        "print(\"Accuracy KNN:\", score1)\n",
        "print(\"Accuracy LR:\", score2)\n",
        "print(\"Accuracy NB:\", score3)"
      ]
    },
    {
      "cell_type": "markdown",
      "metadata": {
        "id": "WCpAqYv1ABsc"
      },
      "source": [
        "### Aplicando a função de classificação de rede"
      ]
    },
    {
      "cell_type": "code",
      "execution_count": null,
      "metadata": {
        "id": "x2b_3nx5AAyk"
      },
      "outputs": [],
      "source": [
        "pred1, pred2, pred3 = predicao_modelos(X, y, X_net)\n",
        "print(\"Pred KNN:\", pred1)\n",
        "print(\"Pred LR:\", pred2)\n",
        "print(\"Pred NB:\", pred3)"
      ]
    },
    {
      "cell_type": "markdown",
      "metadata": {
        "id": "Leo6aavBAQZb"
      },
      "source": [
        "-----\n",
        "# Redes Tecnológicas"
      ]
    },
    {
      "cell_type": "markdown",
      "metadata": {
        "id": "GvOsrv3cATDc"
      },
      "source": [
        "Agora vamos fazer a classificação para as redes tecnológicas a seguir:\n",
        "\n",
        "Site utilizado: https://networks.skewed.de\n",
        "\n",
        "https://networks.skewed.de/net/internet_top_pop (Internet topology (PoP level) (1969-2012))\n",
        "\n",
        "https://networks.skewed.de/net/software_dependencies (Software dependencies (2010))\n",
        "\n",
        "https://networks.skewed.de/net/route_views (Route Views AS graphs (1997-1998))"
      ]
    },
    {
      "cell_type": "markdown",
      "metadata": {
        "id": "suCRkyj9AXK2"
      },
      "source": [
        "# Rede `Internet topology`"
      ]
    },
    {
      "cell_type": "code",
      "execution_count": null,
      "metadata": {
        "id": "UdIVPQ4YASWn"
      },
      "outputs": [],
      "source": [
        "# Importando a rede do Graph-tool\n",
        "\n",
        "G_gt = gt.collection.ns[\"internet_top_pop/Oteglobe\"]\n",
        "\n",
        "\n",
        "# Criando um grafo vazio do NetworkX\n",
        "G_nx = nx.Graph()\n",
        "\n",
        "# Adicionando arestas do grafo do Graph-tool para o grafo do NetworkX\n",
        "for edge in G_gt.edges():\n",
        "    G_nx.add_edge(edge.source(), edge.target())\n",
        "\n",
        "# Removendo auto-laços\n",
        "G_nx.remove_edges_from(nx.selfloop_edges(G_nx))\n",
        "\n",
        "# Obtendo o maior componente conectado\n",
        "Gcc = sorted(nx.connected_components(G_nx), key=len, reverse=True)\n",
        "G_nx = G_nx.subgraph(Gcc[0])\n",
        "\n",
        "# Convertendo rótulos de nós para inteiros\n",
        "mapeamento = {node: idx for idx, node in enumerate(G_nx.nodes())}\n",
        "G_nx = nx.relabel_nodes(G_nx, mapeamento)\n",
        "\n",
        "N = len(G_nx)\n",
        "M = G_nx.number_of_edges()\n",
        "print(\"Número de nós:\", N)\n",
        "print(\"Número de arestas:\", M)\n",
        "\n",
        "#Calculando a posição dos nós usando o layout spring do NetworkX\n",
        "pos = nx.spring_layout(G_nx)\n",
        "\n",
        "#Desenhando o grafo\n",
        "plt.figure(figsize=(10, 10))\n",
        "nx.draw(G_nx, pos, node_color=\"green\", node_size=50, with_labels=False)\n",
        "plt.show()"
      ]
    },
    {
      "cell_type": "markdown",
      "metadata": {
        "id": "yZuF8knuAfsk"
      },
      "source": [
        "### Distribuição do grau"
      ]
    },
    {
      "cell_type": "code",
      "execution_count": null,
      "metadata": {
        "id": "Fuu5C2JvAbFE"
      },
      "outputs": [],
      "source": [
        "ks, Pk = degree_distribution(G_nx)\n",
        "\n",
        "plt.figure(figsize=(7, 4))\n",
        "\n",
        "# Primeiro gráfico (log-log)\n",
        "plt.subplot(1, 2, 1)\n",
        "plt.xscale(\"log\")\n",
        "plt.yscale(\"log\")\n",
        "plt.plot(ks, Pk, \"go\")\n",
        "plt.xlabel(\"k\", fontsize=10)\n",
        "plt.ylabel(\"P(k)\", fontsize=10)\n",
        "plt.title(\"Distribuição do Grau (log-log)\", fontsize=10)\n",
        "\n",
        "# Segundo gráfico (linear)\n",
        "plt.subplot(1, 2, 2)\n",
        "plt.plot(ks, Pk, \"go\")\n",
        "plt.xlabel(\"k\", fontsize=10)\n",
        "plt.ylabel(\"P(k)\", fontsize=20)\n",
        "plt.title(\"Distribuição do Grau\", fontsize=10)\n",
        "\n",
        "plt.tight_layout()\n",
        "plt.show()"
      ]
    },
    {
      "cell_type": "markdown",
      "metadata": {
        "id": "4y_PD9o6Aku8"
      },
      "source": [
        "### Aplicando a função de features"
      ]
    },
    {
      "cell_type": "code",
      "execution_count": null,
      "metadata": {
        "id": "n2KuaeboAh9A"
      },
      "outputs": [],
      "source": [
        "k1, k2, variance, av_cl, l, r, H, av_B, av_knn = measures(G_nx)\n",
        "X_net = [k1, k2, variance, av_cl, l, r, H, av_B, av_knn]\n",
        "print(X_net)"
      ]
    },
    {
      "cell_type": "markdown",
      "metadata": {
        "id": "y7oPxKf7ApIr"
      },
      "source": [
        "### Aplicando a função de modelos de redes"
      ]
    },
    {
      "cell_type": "code",
      "execution_count": null,
      "metadata": {
        "id": "YblEZcEyAnDt"
      },
      "outputs": [],
      "source": [
        "# Parâmetros\n",
        "N = len(G_nx)  # Número de nós\n",
        "n_nets = 100   # Número de redes\n",
        "av_degree = k1 # Grau médio\n",
        "X = None\n",
        "y = None\n",
        "# Geração dos dados\n",
        "X, y, cl = generate_network_data(N, av_degree, n_nets)"
      ]
    },
    {
      "cell_type": "markdown",
      "metadata": {
        "id": "8F_NtGKGAtRm"
      },
      "source": [
        "### Aplicando a função para calcular a acurácia das redes geradas"
      ]
    },
    {
      "cell_type": "code",
      "execution_count": null,
      "metadata": {
        "id": "xSRwJw4oArSs"
      },
      "outputs": [],
      "source": [
        "score1, score2, score3 = accuracy_models(X, y)\n",
        "print(\"Accuracy KNN:\", score1)\n",
        "print(\"Accuracy LR:\", score2)\n",
        "print(\"Accuracy NB:\", score3)"
      ]
    },
    {
      "cell_type": "markdown",
      "metadata": {
        "id": "-0YqOmhrA3T-"
      },
      "source": [
        "### Aplicando a função de classificação de rede"
      ]
    },
    {
      "cell_type": "code",
      "execution_count": null,
      "metadata": {
        "id": "GQP8JRcTAz8p"
      },
      "outputs": [],
      "source": [
        "pred1, pred2, pred3 = predicao_modelos(X, y, X_net)\n",
        "print(\"Pred KNN:\", pred1)\n",
        "print(\"Pred LR:\", pred2)\n",
        "print(\"Pred NB:\", pred3)"
      ]
    },
    {
      "cell_type": "markdown",
      "metadata": {
        "id": "Ipj938InA-A9"
      },
      "source": [
        "# Rede `software_dependencies`"
      ]
    },
    {
      "cell_type": "code",
      "execution_count": null,
      "metadata": {
        "id": "fr5mM0g8A_9s"
      },
      "outputs": [],
      "source": [
        "# Importando a rede do Graph-tool\n",
        "\n",
        "G_gt = gt.collection.ns[\"software_dependencies/flamingo\"]\n",
        "\n",
        "\n",
        "# Criando um grafo vazio do NetworkX\n",
        "G_nx = nx.Graph()\n",
        "\n",
        "# Adicionando arestas do grafo do Graph-tool para o grafo do NetworkX\n",
        "for edge in G_gt.edges():\n",
        "    G_nx.add_edge(edge.source(), edge.target())\n",
        "\n",
        "# Removendo auto-laços\n",
        "G_nx.remove_edges_from(nx.selfloop_edges(G_nx))\n",
        "\n",
        "# Obtendo o maior componente conectado\n",
        "Gcc = sorted(nx.connected_components(G_nx), key=len, reverse=True)\n",
        "G_nx = G_nx.subgraph(Gcc[0])\n",
        "\n",
        "# Convertendo rótulos de nós para inteiros\n",
        "mapeamento = {node: idx for idx, node in enumerate(G_nx.nodes())}\n",
        "G_nx = nx.relabel_nodes(G_nx, mapeamento)\n",
        "\n",
        "N = len(G_nx)\n",
        "M = G_nx.number_of_edges()\n",
        "print(\"Número de nós:\", N)\n",
        "print(\"Número de arestas:\", M)\n",
        "\n",
        "#Calculando a posição dos nós usando o layout spring do NetworkX\n",
        "pos = nx.spring_layout(G_nx)\n",
        "\n",
        "#Desenhando o grafo\n",
        "plt.figure(figsize=(10, 10))\n",
        "nx.draw(G_nx, pos, node_color=\"green\", node_size=50, with_labels=False)\n",
        "plt.show()"
      ]
    },
    {
      "cell_type": "markdown",
      "metadata": {
        "id": "GfeCGYusBFkP"
      },
      "source": [
        "### Distribuição do grau"
      ]
    },
    {
      "cell_type": "code",
      "execution_count": null,
      "metadata": {
        "id": "feC76dOVBBaw"
      },
      "outputs": [],
      "source": [
        "ks, Pk = degree_distribution(G_nx)\n",
        "\n",
        "plt.figure(figsize=(7, 4))\n",
        "\n",
        "# Primeiro gráfico (log-log)\n",
        "plt.subplot(1, 2, 1)\n",
        "plt.xscale(\"log\")\n",
        "plt.yscale(\"log\")\n",
        "plt.plot(ks, Pk, \"go\")\n",
        "plt.xlabel(\"k\", fontsize=10)\n",
        "plt.ylabel(\"P(k)\", fontsize=10)\n",
        "plt.title(\"Distribuição do Grau (log-log)\", fontsize=10)\n",
        "\n",
        "# Segundo gráfico (linear)\n",
        "plt.subplot(1, 2, 2)\n",
        "plt.plot(ks, Pk, \"go\")\n",
        "plt.xlabel(\"k\", fontsize=10)\n",
        "plt.ylabel(\"P(k)\", fontsize=20)\n",
        "plt.title(\"Distribuição do Grau\", fontsize=10)\n",
        "\n",
        "plt.tight_layout()\n",
        "plt.show()"
      ]
    },
    {
      "cell_type": "markdown",
      "metadata": {
        "id": "9xcWluX6BLHM"
      },
      "source": [
        "### Aplicando a função de features"
      ]
    },
    {
      "cell_type": "code",
      "execution_count": null,
      "metadata": {
        "id": "IIMmFcKNBH5c"
      },
      "outputs": [],
      "source": [
        "k1, k2, variance, av_cl, l, r, H, av_B, av_knn = measures(G_nx)\n",
        "X_net = [k1, k2, variance, av_cl, l, r, H, av_B, av_knn]\n",
        "print(X_net)"
      ]
    },
    {
      "cell_type": "markdown",
      "metadata": {
        "id": "hMSbWt_1BPDN"
      },
      "source": [
        "### Aplicando a função de modelos de redes"
      ]
    },
    {
      "cell_type": "code",
      "execution_count": null,
      "metadata": {
        "id": "-GPC6oLLBNWZ"
      },
      "outputs": [],
      "source": [
        "# Parâmetros\n",
        "N = len(G_nx)  # Número de nós\n",
        "n_nets = 100   # Número de redes\n",
        "av_degree = k1 # Grau médio\n",
        "X = None\n",
        "y = None\n",
        "# Geração dos dados\n",
        "X, y, cl = generate_network_data(N, av_degree, n_nets)"
      ]
    },
    {
      "cell_type": "markdown",
      "metadata": {
        "id": "g-guDxnyBVrM"
      },
      "source": [
        "### Aplicando a função para calcular a acurácia das redes geradas"
      ]
    },
    {
      "cell_type": "code",
      "execution_count": null,
      "metadata": {
        "id": "EXNboBSNBRuz"
      },
      "outputs": [],
      "source": [
        "score1, score2, score3 = accuracy_models(X, y)\n",
        "print(\"Accuracy KNN:\", score1)\n",
        "print(\"Accuracy LR:\", score2)\n",
        "print(\"Accuracy NB:\", score3)"
      ]
    },
    {
      "cell_type": "markdown",
      "metadata": {
        "id": "SkdbxlZGBaBE"
      },
      "source": [
        "### Aplicando a função de classificação de rede"
      ]
    },
    {
      "cell_type": "code",
      "execution_count": null,
      "metadata": {
        "id": "AZbKFSzCBZgE"
      },
      "outputs": [],
      "source": [
        "pred1, pred2, pred3 = predicao_modelos(X, y, X_net)\n",
        "print(\"Pred KNN:\", pred1)\n",
        "print(\"Pred LR:\", pred2)\n",
        "print(\"Pred NB:\", pred3)"
      ]
    },
    {
      "cell_type": "markdown",
      "metadata": {
        "id": "S50By75VBlCt"
      },
      "source": [
        "Para a rede tecnológica `software_dependencies`, os modelos a classificaram como BA (Barabási-Albert). Vamos, portanto, analisar as variáveis que mais contribuem para essa classificação.\n",
        "\n",
        "Vale destacar que iremos redefinir a função que plota as importâncias das features, garantindo que as cores utilizadas estejam alinhadas com as cores que estamos considerando para as redes tecnológicas."
      ]
    },
    {
      "cell_type": "markdown",
      "metadata": {
        "id": "WCDhsv2kCV-8"
      },
      "source": [
        "### Função para encontrar a importância das features"
      ]
    },
    {
      "cell_type": "code",
      "execution_count": null,
      "metadata": {
        "id": "e-_Gs8ocB-mZ"
      },
      "outputs": [],
      "source": [
        "def predicao_modelos_importance(X, y, x_rede, cl):\n",
        "    scaler = StandardScaler().fit(X)\n",
        "    X = scaler.transform(X)\n",
        "\n",
        "    x_rede = np.array(x_rede)\n",
        "    x_rede = x_rede.reshape(1, len(x_rede))\n",
        "    x_rede = scaler.transform(x_rede)\n",
        "\n",
        "    feat = [\"k1\", \"k2\", \"variance\", \"av_cl\", \"l\", \"r\", \"H\", \"av_B\", \"av_knn\"]\n",
        "\n",
        "    k = 5\n",
        "    model1 = KNeighborsClassifier(n_neighbors=k, metric=\"euclidean\")\n",
        "    model1.fit(X, y)\n",
        "    y_pred1 = model1.predict(x_rede)\n",
        "    pred1 = cl[int(y_pred1.item())]\n",
        "\n",
        "    model2 = LogisticRegression(solver=\"lbfgs\", max_iter=1000)\n",
        "    model2.fit(X, y)\n",
        "    y_pred2 = model2.predict(x_rede)\n",
        "    pred2 = cl[int(y_pred2.item())]\n",
        "\n",
        "    model3 = GaussianNB()\n",
        "    model3.fit(X, y)\n",
        "    y_pred3 = model3.predict(x_rede)\n",
        "    pred3 = cl[int(y_pred3.item())]\n",
        "\n",
        "    # Importância das features para Regressão Logística\n",
        "    coefficients = model2.coef_\n",
        "    avg_importance = np.mean(np.abs(coefficients), axis=0)\n",
        "    normalized_importance = avg_importance / np.sum(avg_importance)\n",
        "    feature_importance_lr = pd.DataFrame({\"Feature\": feat, \"Importance\": normalized_importance})\n",
        "    feature_importance_lr = feature_importance_lr.sort_values(\"Importance\", ascending=True)\n",
        "\n",
        "    plt.figure(figsize=(10, 6))\n",
        "    plt.barh(feature_importance_lr['Feature'], feature_importance_lr['Importance'], color='green')\n",
        "    plt.xlabel('Importance')\n",
        "    plt.ylabel('Feature')\n",
        "    plt.title(\"Feature Importance - Logistic Regression\")\n",
        "    plt.show()\n",
        "\n",
        "    # Importância das features para KNN\n",
        "    result_knn = permutation_importance(model1, X, y, n_repeats=30, random_state=42)\n",
        "    feature_importance_knn = pd.DataFrame({\"Feature\": feat, \"Importance\": result_knn.importances_mean})\n",
        "    feature_importance_knn = feature_importance_knn.sort_values(\"Importance\", ascending=True)\n",
        "\n",
        "    plt.figure(figsize=(10, 6))\n",
        "    plt.barh(feature_importance_knn['Feature'], feature_importance_knn['Importance'], color='green')\n",
        "    plt.xlabel('Importance')\n",
        "    plt.ylabel('Feature')\n",
        "    plt.title(\"Feature Importance - KNN\")\n",
        "    plt.show()\n",
        "\n",
        "    # Importância das features para GaussianNB\n",
        "    result_nb = permutation_importance(model3, X, y, n_repeats=30, random_state=42)\n",
        "    feature_importance_nb = pd.DataFrame({\"Feature\": feat, \"Importance\": result_nb.importances_mean})\n",
        "    feature_importance_nb = feature_importance_nb.sort_values(\"Importance\", ascending=True)\n",
        "\n",
        "    plt.figure(figsize=(10, 6))\n",
        "    plt.barh(feature_importance_nb['Feature'], feature_importance_nb['Importance'], color='green')\n",
        "    plt.xlabel('Importance')\n",
        "    plt.ylabel('Feature')\n",
        "    plt.title(\"Feature Importance - Naive Bayes\")\n",
        "    plt.show()\n",
        "\n",
        "    return pred1, pred2, pred3"
      ]
    },
    {
      "cell_type": "code",
      "execution_count": null,
      "metadata": {
        "id": "Lpd18Y27Cemt"
      },
      "outputs": [],
      "source": [
        "pred1, pred2, pred3 = predicao_modelos_importance(X, y, X_net, cl )\n",
        "\n",
        "print(\"Pred KNN:\", pred1)\n",
        "print(\"Pred LR:\", pred2)\n",
        "print(\"Pred NB:\", pred3)"
      ]
    },
    {
      "cell_type": "markdown",
      "metadata": {
        "id": "hb5WYCqwCvgG"
      },
      "source": [
        "# Rede `Route Views AS graphs`"
      ]
    },
    {
      "cell_type": "code",
      "execution_count": null,
      "metadata": {
        "id": "aGYBs5mvCiaU"
      },
      "outputs": [],
      "source": [
        "# Importando a rede do Graph-tool\n",
        "\n",
        "G_gt = gt.collection.ns[\"route_views/19990110\"]\n",
        "\n",
        "\n",
        "# Criando um grafo vazio do NetworkX\n",
        "G_nx = nx.Graph()\n",
        "\n",
        "# Adicionando arestas do grafo do Graph-tool para o grafo do NetworkX\n",
        "for edge in G_gt.edges():\n",
        "    G_nx.add_edge(edge.source(), edge.target())\n",
        "\n",
        "# Removendo auto-laços\n",
        "G_nx.remove_edges_from(nx.selfloop_edges(G_nx))\n",
        "\n",
        "# Obtendo o maior componente conectado\n",
        "Gcc = sorted(nx.connected_components(G_nx), key=len, reverse=True)\n",
        "G_nx = G_nx.subgraph(Gcc[0])\n",
        "\n",
        "# Convertendo rótulos de nós para inteiros\n",
        "mapeamento = {node: idx for idx, node in enumerate(G_nx.nodes())}\n",
        "G_nx = nx.relabel_nodes(G_nx, mapeamento)\n",
        "\n",
        "N = len(G_nx)\n",
        "M = G_nx.number_of_edges()\n",
        "print(\"Número de nós:\", N)\n",
        "print(\"Número de arestas:\", M)\n",
        "\n",
        "#Calculando a posição dos nós usando o layout spring do NetworkX\n",
        "pos = nx.spring_layout(G_nx)\n",
        "\n",
        "#Desenhando o grafo\n",
        "plt.figure(figsize=(10, 10))\n",
        "nx.draw(G_nx, pos, node_color=\"green\", node_size=50, with_labels=False)\n",
        "plt.show()"
      ]
    },
    {
      "cell_type": "markdown",
      "metadata": {
        "id": "mZmhkg7VC0B_"
      },
      "source": [
        "### Distribuição do grau"
      ]
    },
    {
      "cell_type": "code",
      "execution_count": null,
      "metadata": {
        "id": "g2l-L7MvCxuZ"
      },
      "outputs": [],
      "source": [
        "ks, Pk = degree_distribution(G_nx)\n",
        "\n",
        "plt.figure(figsize=(7, 4))\n",
        "\n",
        "# Primeiro gráfico (log-log)\n",
        "plt.subplot(1, 2, 1)\n",
        "plt.xscale(\"log\")\n",
        "plt.yscale(\"log\")\n",
        "plt.plot(ks, Pk, \"go\")\n",
        "plt.xlabel(\"k\", fontsize=10)\n",
        "plt.ylabel(\"P(k)\", fontsize=10)\n",
        "plt.title(\"Distribuição do Grau (log-log)\", fontsize=10)\n",
        "\n",
        "# Segundo gráfico (linear)\n",
        "plt.subplot(1, 2, 2)\n",
        "plt.plot(ks, Pk, \"go\")\n",
        "plt.xlabel(\"k\", fontsize=10)\n",
        "plt.ylabel(\"P(k)\", fontsize=20)\n",
        "plt.title(\"Distribuição do Grau\", fontsize=10)\n",
        "\n",
        "plt.tight_layout()\n",
        "plt.show()"
      ]
    },
    {
      "cell_type": "markdown",
      "metadata": {
        "id": "SAQ1_vXMC29l"
      },
      "source": [
        "### Aplicando a função de features"
      ]
    },
    {
      "cell_type": "code",
      "execution_count": null,
      "metadata": {
        "id": "uijlrTpTC111"
      },
      "outputs": [],
      "source": [
        "k1, k2, variance, av_cl, l, r, H, av_B, av_knn = measures(G_nx)\n",
        "X_net = [k1, k2, variance, av_cl, l, r, H, av_B, av_knn]\n",
        "print(X_net)"
      ]
    },
    {
      "cell_type": "markdown",
      "metadata": {
        "id": "aRogaj6xC8G0"
      },
      "source": [
        "### Aplicando a função de modelos de redes"
      ]
    },
    {
      "cell_type": "code",
      "execution_count": null,
      "metadata": {
        "id": "37CbdVWjC6Lh"
      },
      "outputs": [],
      "source": [
        "# Parâmetros\n",
        "N = len(G_nx)  # Número de nós\n",
        "n_nets = 100   # Número de redes\n",
        "av_degree = k1 # Grau médio\n",
        "X = None\n",
        "y = None\n",
        "# Geração dos dados\n",
        "X, y, cl = generate_network_data(N, av_degree, n_nets)"
      ]
    },
    {
      "cell_type": "markdown",
      "metadata": {
        "id": "Z3W-z5rDDB8G"
      },
      "source": [
        "### Aplicando a função para calcular a acurácia das redes geradas"
      ]
    },
    {
      "cell_type": "code",
      "execution_count": null,
      "metadata": {
        "id": "NfL0cuGDC-Jo"
      },
      "outputs": [],
      "source": [
        "score1, score2, score3 = accuracy_models(X, y)\n",
        "print(\"Accuracy KNN:\", score1)\n",
        "print(\"Accuracy LR:\", score2)\n",
        "print(\"Accuracy NB:\", score3)"
      ]
    },
    {
      "cell_type": "markdown",
      "metadata": {
        "id": "C1fivSibDFv0"
      },
      "source": [
        "### Aplicando a função de classificação de rede"
      ]
    },
    {
      "cell_type": "code",
      "execution_count": null,
      "metadata": {
        "id": "ESijkiU9DFH2"
      },
      "outputs": [],
      "source": [
        "pred1, pred2, pred3 = predicao_modelos(X, y, X_net)\n",
        "print(\"Pred KNN:\", pred1)\n",
        "print(\"Pred LR:\", pred2)\n",
        "print(\"Pred NB:\", pred3)"
      ]
    },
    {
      "cell_type": "code",
      "execution_count": null,
      "metadata": {
        "id": "t1gbLJvQDLwB"
      },
      "outputs": [],
      "source": [
        "pred1, pred2, pred3 = predicao_modelos_importance(X, y, X_net, cl )\n",
        "\n",
        "print(\"Pred KNN:\", pred1)\n",
        "print(\"Pred LR:\", pred2)\n",
        "print(\"Pred NB:\", pred3)"
      ]
    },
    {
      "cell_type": "markdown",
      "metadata": {
        "id": "v8huZl8XDW3e"
      },
      "source": [
        "# Hipótese:\n",
        "----\n",
        "Redes do mesmo tipo seguem o mesmo modelo. Verifique se essa hipótese é verdadeira.\n",
        "\n",
        "----"
      ]
    },
    {
      "cell_type": "markdown",
      "metadata": {
        "id": "rs5E4eZUDZwY"
      },
      "source": [
        "Consideramos o modelo final de uma rede como sendo o modelo com maior frequência entre as classificações dos modelos KNN, Regressão Logística e Naive Bayes.\n",
        "\n",
        "\n",
        "A hipótese, de forma geral, é falsa. Selecionamos três redes em cada uma das categorias: \"Redes Biológicas\", \"Redes Sociais\" e \"Redes Tecnológicas\". Em todas as categorias, pelo menos uma rede foi classificada por um modelo diferente dos demais. Além disso, vale ressaltar que todos os modelos de classificação foram treinados sob as mesmas condições de otimização de hiperparâmetros.\n",
        "\n",
        "**MODELOS DE CLASSIFICAÇÃO UTILIZADOS**\n",
        "\n",
        "- **KNN** - K-Nearest Neighbors\n",
        "- **LR**  - Linear Regression\n",
        "- **NB**  - Naive Bayes"
      ]
    },
    {
      "cell_type": "markdown",
      "metadata": {
        "id": "tdd-Dr_3DeE5"
      },
      "source": [
        "| **Categoria**        | **Redes**                                     | **KNN** | **LR** | **NB** | **Modelo Final** |\n",
        "|----------------------|-----------------------------------------------|---------|--------|--------|------------------|\n",
        "| **Redes Biológicas** | celegans_2019/hermaphrodite_gap_junction      | WS      | WS     | ER     | WS               |\n",
        "|                      | yeast_transcription                           | BA      | BA     | WG     | BA               |\n",
        "|                      | foodweb_little_rock                           | BA      | BA     | ER     | BA               |\n",
        "| **Redes Sociais**    | Aarhus Computer Science                       | BA      | BA     | ER     | BA               |\n",
        "|                      | Maier Facebook friends                        | BA      | BA     | WG     | BA               |\n",
        "|                      | Japanese macaques                             | ER      | ER     | ER     | ER               |\n",
        "| **Redes Tecnológicas** | Internet topology                           | ER      | ER     | WG     | ER               |\n",
        "|                      | Software dependencies                         | BA      | BA     | WG     | BA               |\n",
        "|                      | Route Views AS graphs                         | BA      | BA     | WG     | BA               |\n",
        "\n"
      ]
    },
    {
      "cell_type": "markdown",
      "metadata": {
        "id": "FaC7e7TYiMah"
      },
      "source": [
        "---\n",
        "\n",
        "**Bônus (não é obrigatório):** Identifique as principais diferenças entre os modelos. Isto é, quais medidas mais contribuem para que uma rede seja classificada como sendo do\n",
        "modelo BA\n",
        "\n",
        "---"
      ]
    },
    {
      "cell_type": "markdown",
      "metadata": {
        "id": "VjtJXRnslgsl"
      },
      "source": [
        "Vamos considerar apenas as redes classificadas como BA (Barabási-Albert), para analisar quais features mais impactaram essa classificação."
      ]
    },
    {
      "cell_type": "markdown",
      "metadata": {
        "id": "AZBpPc-2mG7u"
      },
      "source": [
        "- Redes Biológicas:\n",
        "1. `yeast_transcription`;\n",
        "2. `foodweb_little_rock`.\n",
        "\n",
        "- Redes Sociais:\n",
        "1. `Aarhus Computer Science`;\n",
        "2. `Maier Facebook friends`.\n",
        "\n",
        "- Redes Tecnológicas:\n",
        "1. `Software dependencies`;\n",
        "2. `Route Views AS graphs`.\n"
      ]
    },
    {
      "cell_type": "markdown",
      "metadata": {
        "id": "edAVN8TNo5BW"
      },
      "source": [
        "---"
      ]
    },
    {
      "cell_type": "markdown",
      "metadata": {
        "id": "JF6RI-DkwuNN"
      },
      "source": [
        "### Redes Biológicas"
      ]
    },
    {
      "cell_type": "markdown",
      "metadata": {
        "id": "8qS42dicpAtW"
      },
      "source": [
        "Vamos avaliar as cinco principais features que mais impactaram na classificação da rede `yeast_transcription` como sendo uma rede de BA.\n",
        "\n",
        "| **Modelo** | **Feature 1**  | **Feature 2**  | **Feature 3**  | **Feature 4**  | **Feature 5**  | **Classificação** |\n",
        "|------------|----------------|----------------|----------------|----------------|----------------|-------------------|\n",
        "| **KNN**    | av_B     | I     | H     | r     |   av_knn   | BA                |\n",
        "| **LR**     | H     | r     | av_B     | I     | av_knn     | BA                |\n",
        "| **NB**     | k1     | k2     | variance     | av_knn     | av_cl     | WG               |"
      ]
    },
    {
      "cell_type": "markdown",
      "metadata": {
        "id": "PWnj3eqou_V1"
      },
      "source": [
        "Analogamente, para a rede `foodweb_little_rock`\n",
        "\n",
        "| **Modelo** | **Feature 1**  | **Feature 2**  | **Feature 3**  | **Feature 4**  | **Feature 5**  | **Classificação** |\n",
        "|------------|----------------|----------------|----------------|----------------|----------------|-------------------|\n",
        "| **KNN**    | av_cl     | variance     | H     | -     | -     | BA                |\n",
        "| **LR**     | H     | av_cl     | variance     | I     | av_B     | BA                |\n",
        "| **NB**     | av_cl     | variance     | H     | r     | av_knn     | ER              |"
      ]
    },
    {
      "cell_type": "markdown",
      "metadata": {
        "id": "mALAMInNtxXW"
      },
      "source": [
        "\n",
        "---"
      ]
    },
    {
      "cell_type": "markdown",
      "metadata": {
        "id": "TSARNcAmwyzk"
      },
      "source": [
        "### Redes Sociais"
      ]
    },
    {
      "cell_type": "markdown",
      "metadata": {
        "id": "f745h0nww25k"
      },
      "source": [
        "Vamos avaliar as cinco principais features que mais impactaram na classificação da rede `Aarhus Computer Science` como sendo uma rede de BA.\n",
        "\n",
        "| **Modelo** | **Feature 1**  | **Feature 2**  | **Feature 3**  | **Feature 4**  | **Feature 5**  | **Classificação** |\n",
        "|------------|----------------|----------------|----------------|----------------|----------------|-------------------|\n",
        "| **KNN**    | variance     | av_cl     | H     | k2     |   k1   | BA                |\n",
        "| **LR**     | av_cl     | H     | variance     | k2     | k1     | BA                |\n",
        "| **NB**     | k1     | k2     | av_knn     | av_B     | variance     | ER               |\n"
      ]
    },
    {
      "cell_type": "markdown",
      "metadata": {
        "id": "q5IjJIJWxIH8"
      },
      "source": [
        "Analogamente, para a rede `Maier Facebook friends`\n",
        "\n",
        "| **Modelo** | **Feature 1**  | **Feature 2**  | **Feature 3**  | **Feature 4**  | **Feature 5**  | **Classificação** |\n",
        "|------------|----------------|----------------|----------------|----------------|----------------|-------------------|\n",
        "| **KNN**    | r     | k1     | av_B     | H     | I     | BA                |\n",
        "| **LR**     | r    | k2     | av_B     | I     | H     | BA                |\n",
        "| **NB**     | k1     | av_cl     | variance     | av_knn     | k2     | WG              |\n",
        "\n",
        "---"
      ]
    },
    {
      "cell_type": "markdown",
      "metadata": {
        "id": "QDbW0NTZzGhd"
      },
      "source": [
        "### Redes Tecnológicas"
      ]
    },
    {
      "cell_type": "markdown",
      "metadata": {
        "id": "uP9jv2TkzQaN"
      },
      "source": [
        "Vamos avaliar as cinco principais features que mais impactaram na classificação da rede `Software dependencies` como sendo uma rede de BA."
      ]
    },
    {
      "cell_type": "markdown",
      "metadata": {
        "id": "b28HsznazWws"
      },
      "source": [
        "\n",
        "| **Modelo** | **Feature 1**  | **Feature 2**  | **Feature 3**  | **Feature 4**  | **Feature 5**  | **Classificação** |\n",
        "|------------|----------------|----------------|----------------|----------------|----------------|-------------------|\n",
        "| **KNN**    | av_cl     | variance     | H     | av_B     |   I   | BA                |\n",
        "| **LR**     | av_cl     | H     | av_B     | I     | av_knn     | BA                |\n",
        "| **NB**     | k1     | k2     | av_knn     | variance     | av_cl     | WG              |"
      ]
    },
    {
      "cell_type": "markdown",
      "metadata": {
        "id": "koYWhiUkzdWd"
      },
      "source": [
        "Analogamente, para a rede `Route Views AS graphs`\n",
        "\n",
        "| **Modelo** | **Feature 1**  | **Feature 2**  | **Feature 3**  | **Feature 4**  | **Feature 5**  | **Classificação** |\n",
        "|------------|----------------|----------------|----------------|----------------|----------------|-------------------|\n",
        "| **KNN**    | av_cl     | variance     | av_B     | I     | av_knn    | BA                |\n",
        "| **LR**     | av_cl    | H     | variance     | av_B     | I     | BA                |\n",
        "| **NB**     | k1     | k2     | av_knn     | variance     | av_B     | WG              |\n",
        "\n",
        "---"
      ]
    },
    {
      "cell_type": "markdown",
      "metadata": {
        "id": "oNmwwp194WzT"
      },
      "source": [
        "### **Diagnóstico geral sobre a classificação das redes como BA**\n",
        "\n",
        "A classificação de redes complexas em modelos de redes de Barabási-Albert (BA) depende de várias características estruturais e métricas da rede. Analisando as diferentes redes biológicas, sociais e tecnológicas, é possível observar quais características são mais influentes na classificação dessas redes como BA por diferentes modelos de machine learning.\n",
        "\n",
        "## **Redes Biológicas**\n",
        "\n",
        "**Rede: yeast_transcription**\n",
        "- **KNN:** As principais características que influenciam são a centralidade média (**av_B**), número médio de nós intermediários (**I**), entropia de Shannon (**H**), coeficiente de assortatividade (**r**) e a média do grau dos vizinhos mais próximos (**av_knn**).\n",
        "- **LR:** A entropia de Shannon (**H**), coeficiente de assortatividade (**r**), centralidade média (**av_B**), número médio de nós intermediários (**I**), e a média do grau dos vizinhos mais próximos (**av_knn**) são os mais influentes.\n",
        "- **NB:** Curiosamente, o modelo NB (Naive Bayes) não classificou esta rede como BA, destacando **k1**, **k2**, **variance**, **av_knn** e **av_cl** como características principais.\n",
        "\n",
        "**Rede: foodweb_little_rock**\n",
        "- **KNN:** A média de agrupamento (**av_cl**), variância (**variance**) e entropia de Shannon (**H**) são as características principais.\n",
        "- **LR:** Entropia de Shannon (**H**), média de agrupamento (**av_cl**), variância (**variance**), número médio de nós intermediários (**I**) e centralidade média (**av_B**) são os mais influentes.\n",
        "- **NB:** O modelo NB classificou esta rede como ER, com **av_cl**, **variance**, **H**, **r** e **av_knn** como características principais.\n",
        "\n",
        "## **Redes Sociais**\n",
        "\n",
        "**Rede: Aarhus Computer Science**\n",
        "- **KNN:** A variância (**variance**), média de agrupamento (**av_cl**), entropia de Shannon (**H**), segundo momento do grau (**k2**) e o primeiro momento do grau (**k1**) são as características principais.\n",
        "- **LR:** Média de agrupamento (**av_cl**), entropia de Shannon (**H**), variância (**variance**), segundo momento do grau (**k2**) e o primeiro momento do grau (**k1**) são os mais influentes.\n",
        "- **NB:** O modelo NB classificou esta rede como ER, com **k1**, **k2**, **av_knn**, **av_B** e **variance** como características principais.\n",
        "\n",
        "**Rede: Maier Facebook friends**\n",
        "- **KNN:** Coeficiente de assortatividade (**r**), primeiro momento do grau (**k1**), centralidade média (**av_B**), entropia de Shannon (**H**) e número médio de nós intermediários (**I**) são as características principais.\n",
        "- **LR:** Coeficiente de assortatividade (**r**), segundo momento do grau (**k2**), centralidade média (**av_B**), número médio de nós intermediários (**I**) e entropia de Shannon (**H**) são os mais influentes.\n",
        "- **NB:** O modelo NB classificou esta rede como WG, com **k1**, **av_cl**, **variance**, **av_knn** e **k2** como características principais.\n",
        "\n",
        "## **Redes Tecnológicas**\n",
        "\n",
        "**Rede: Software dependencies**\n",
        "- **KNN:** As principais características que influenciam são a média de agrupamento (**av_cl**), variância (**variance**), entropia de Shannon (**H**), centralidade média (**av_B**), e o número médio de nós intermediários (**I**).\n",
        "- **LR:** A média de agrupamento (**av_cl**), entropia de Shannon (**H**), centralidade média (**av_B**), número médio de nós intermediários (**I**), e a média do grau dos vizinhos mais próximos (**av_knn**) são os mais influentes.\n",
        "- **NB:** Curiosamente, o modelo NB (Naive Bayes) não classificou esta rede como BA, destacando **k1**, **k2**, **av_knn**, **variance** e **av_cl** como características principais.\n",
        "\n",
        "**Rede: Route Views AS graphs**\n",
        "- **KNN:** Média de agrupamento (**av_cl**), variância (**variance**), centralidade média (**av_B**), número médio de nós intermediários (**I**) e média do grau dos vizinhos mais próximos (**av_knn**) são as características principais.\n",
        "- **LR:** Média de agrupamento (**av_cl**), entropia de Shannon (**H**), variância (**variance**), centralidade média (**av_B**) e número médio de nós intermediários (**I**) são os mais influentes.\n",
        "- **NB:** O modelo NB classificou esta rede como WG, com **k1**, **k2**, **av_knn**, **variance** e **av_B** como características principais.\n",
        "\n",
        "# **Observações Gerais**\n",
        "\n",
        "1. **Consistência entre Modelos:** Em geral, KNN e LR mostram mais consistência em identificar redes como BA, especialmente com a média de agrupamento (**av_cl**), entropia de Shannon (**H**), e variância (**variance**) sendo características frequentemente influentes.\n",
        "  \n",
        "2. **Divergência do NB:** O modelo NB diverge significativamente dos outros dois modelos, frequentemente classificando redes como ER ou WG, indicando que talvez este modelo não capture as nuances das características BA da mesma maneira que KNN e LR.\n",
        "\n",
        "3. **Características Recorrentes:** Certas características, como **av_cl**, **H**, **variance** e **av_knn**, aparecem frequentemente como influentes na classificação de redes BA. Essas características parecem ser bons indicadores gerais da topologia de redes BA.\n",
        "\n",
        "4. **Diferenças por Tipo de Rede:** Embora características específicas variem entre tipos de rede (biológicas, sociais, tecnológicas), a média de agrupamento (**av_cl**) e entropia de Shannon (**H**) são frequentemente importantes em diferentes contextos.\n",
        "\n",
        "Esta análise sugere que, ao avaliar a estrutura de uma rede complexa para determinar se ela segue um modelo de BA, atenção especial deve ser dada à média de agrupamento, entropia de Shannon, variância, e outras métricas centrais e de caminho. Os modelos de KNN e LR são particularmente úteis para esta tarefa, enquanto o modelo NB pode necessitar de ajustes ou complementaridade com outros modelos para melhorar sua precisão nesta classificação.\n",
        "\n",
        "Vale ressaltar que esta análise pode conter vieses devido à quantidade reduzida de features escolhidas, à quantidade de modelos de redes considerados e aos modelos de classificação utilizados. Resultados diferentes podem ser obtidos quando mais modelos, mais features e modelos de classificação com outras dinâmicas de aprendizagem são considerados."
      ]
    }
  ],
  "metadata": {
    "colab": {
      "provenance": [],
      "include_colab_link": true
    },
    "kernelspec": {
      "display_name": "Python 3 (ipykernel)",
      "language": "python",
      "name": "python3"
    },
    "language_info": {
      "codemirror_mode": {
        "name": "ipython",
        "version": 3
      },
      "file_extension": ".py",
      "mimetype": "text/x-python",
      "name": "python",
      "nbconvert_exporter": "python",
      "pygments_lexer": "ipython3",
      "version": "3.11.7"
    }
  },
  "nbformat": 4,
  "nbformat_minor": 0
}